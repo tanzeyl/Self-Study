{
  "nbformat": 4,
  "nbformat_minor": 0,
  "metadata": {
    "colab": {
      "name": "Cross Validation.ipynb",
      "provenance": [],
      "mount_file_id": "1wWJ2Sabf0a_eEfzBCleMoDugTPSagiAT",
      "authorship_tag": "ABX9TyNXpZ5Oib82mec2KKzAPgIs",
      "include_colab_link": true
    },
    "kernelspec": {
      "name": "python3",
      "display_name": "Python 3"
    },
    "language_info": {
      "name": "python"
    }
  },
  "cells": [
    {
      "cell_type": "markdown",
      "metadata": {
        "id": "view-in-github",
        "colab_type": "text"
      },
      "source": [
        "<a href=\"https://colab.research.google.com/github/tanzeyl/Self-Study/blob/main/Cross_Validation.ipynb\" target=\"_parent\"><img src=\"https://colab.research.google.com/assets/colab-badge.svg\" alt=\"Open In Colab\"/></a>"
      ]
    },
    {
      "cell_type": "code",
      "metadata": {
        "id": "Y2GcqO6SpQR7"
      },
      "source": [
        "import numpy as np\n",
        "import pandas as pd\n",
        "import matplotlib.pyplot as plt\n",
        "from sklearn.model_selection import train_test_split, cross_val_score\n",
        "from sklearn.neighbors import KNeighborsClassifier\n",
        "from sklearn.metrics import accuracy_score\n",
        "from collections import Counter"
      ],
      "execution_count": 5,
      "outputs": []
    },
    {
      "cell_type": "code",
      "metadata": {
        "colab": {
          "base_uri": "https://localhost:8080/"
        },
        "id": "Y8sSC9hspzPw",
        "outputId": "455b303e-6f26-48af-e376-05a7faa5e97c"
      },
      "source": [
        " names = [\"X\", \"Y\", \"Class\"]\n",
        " df = pd.read_csv(\"/content/drive/MyDrive/Demo Data/3.concertriccir2.csv\", header = None, names = names)\n",
        " print(df.head())\n",
        "x = np.array(df.iloc[:, 0:4])\n",
        "y = np.array(df[\"Class\"])"
      ],
      "execution_count": 8,
      "outputs": [
        {
          "output_type": "stream",
          "text": [
            "          X         Y  Class\n",
            "0  0.700335 -0.247068    0.0\n",
            "1 -3.950019  2.740080    1.0\n",
            "2  0.150222 -2.157638    1.0\n",
            "3 -1.672050 -0.941519    1.0\n",
            "4  2.560483 -1.846577    1.0\n"
          ],
          "name": "stdout"
        }
      ]
    },
    {
      "cell_type": "code",
      "metadata": {
        "colab": {
          "base_uri": "https://localhost:8080/"
        },
        "id": "VBGIizzprHN6",
        "outputId": "63ffc3e6-7a5c-429f-9d8b-ef81c0b1fe60"
      },
      "source": [
        "x_1, x_test, y_1, y_test = train_test_split(x, y, test_size = 0.3, random_state = 42)\n",
        "x_train, x_cv, y_train, y_cv = train_test_split(x_1, y_1, test_size = 0.3)\n",
        "\n",
        "for i in range(1, 30, 2):\n",
        "  knn = KNeighborsClassifier(n_neighbors = i)\n",
        "  knn.fit(x_train, y_train)\n",
        "  preds = knn.predict(x_cv)\n",
        "  acc = accuracy_score(y_cv, preds, normalize = True) * float(100)\n",
        "  print(\"CV accuracy for K = {} is {}%.\".format(i, acc), end =\"\\n\")"
      ],
      "execution_count": 13,
      "outputs": [
        {
          "output_type": "stream",
          "text": [
            "CV accuracy for K = 1 is 100.0%.\n",
            "CV accuracy for K = 3 is 100.0%.\n",
            "CV accuracy for K = 5 is 100.0%.\n",
            "CV accuracy for K = 7 is 99.04761904761905%.\n",
            "CV accuracy for K = 9 is 98.09523809523809%.\n",
            "CV accuracy for K = 11 is 98.09523809523809%.\n",
            "CV accuracy for K = 13 is 96.19047619047619%.\n",
            "CV accuracy for K = 15 is 93.33333333333333%.\n",
            "CV accuracy for K = 17 is 90.47619047619048%.\n",
            "CV accuracy for K = 19 is 90.47619047619048%.\n",
            "CV accuracy for K = 21 is 88.57142857142857%.\n",
            "CV accuracy for K = 23 is 87.61904761904762%.\n",
            "CV accuracy for K = 25 is 86.66666666666667%.\n",
            "CV accuracy for K = 27 is 78.0952380952381%.\n",
            "CV accuracy for K = 29 is 75.23809523809524%.\n"
          ],
          "name": "stdout"
        }
      ]
    },
    {
      "cell_type": "code",
      "metadata": {
        "colab": {
          "base_uri": "https://localhost:8080/"
        },
        "id": "Zbuzmdygs9bu",
        "outputId": "6068cf99-ac8c-4181-aa05-72f8842cebea"
      },
      "source": [
        "knn = KNeighborsClassifier(n_neighbors = 1)\n",
        "knn.fit(x_train, y_train)\n",
        "preds = knn.predict(x_test)\n",
        "acc = accuracy_score(y_test, preds, normalize = True) * float(100)\n",
        "print(\"Test accuracy score is {}.\".format(acc))"
      ],
      "execution_count": 10,
      "outputs": [
        {
          "output_type": "stream",
          "text": [
            "Test accuracy score is 98.66666666666667.\n"
          ],
          "name": "stdout"
        }
      ]
    },
    {
      "cell_type": "markdown",
      "metadata": {
        "id": "qQogYqE9tm1p"
      },
      "source": [
        "# 10-Fold Cross Validation"
      ]
    },
    {
      "cell_type": "code",
      "metadata": {
        "colab": {
          "base_uri": "https://localhost:8080/"
        },
        "id": "djOBLOXutTvO",
        "outputId": "0aac14a5-87f9-471c-8545-466b0f9988d6"
      },
      "source": [
        "myList = list(range(0,50))\n",
        "neighbors = list(filter(lambda x: x % 2 != 0, myList))\n",
        "cv_scores = []\n",
        "for k in neighbors:\n",
        "  knn = KNeighborsClassifier(n_neighbors = k)\n",
        "  scores = cross_val_score(knn, x_train, y_train, cv = 10, scoring = \"accuracy\")\n",
        "  cv_scores.append(scores.mean())\n",
        "\n",
        "MSE = [1 - x for x in cv_scores]\n",
        "\n",
        "optimal_k = neighbors[MSE.index(min(MSE))]\n",
        "print(\"Optimal K value is {}.\".format(optimal_k))"
      ],
      "execution_count": 11,
      "outputs": [
        {
          "output_type": "stream",
          "text": [
            "Optimal K value is 1.\n"
          ],
          "name": "stdout"
        }
      ]
    },
    {
      "cell_type": "code",
      "metadata": {
        "colab": {
          "base_uri": "https://localhost:8080/"
        },
        "id": "PqljbEz6uniT",
        "outputId": "a41db5b5-567b-40de-986b-76c3a4b82659"
      },
      "source": [
        "knn = KNeighborsClassifier(n_neighbors = optimal_k)\n",
        "knn.fit(x_train, y_train)\n",
        "preds = knn.predict(x_test)\n",
        "acc = accuracy_score(y_test, preds, normalize = True) * float(100)\n",
        "print(\"Test accuracy score is {}.\".format(acc))"
      ],
      "execution_count": 12,
      "outputs": [
        {
          "output_type": "stream",
          "text": [
            "Test accuracy score is 98.66666666666667.\n"
          ],
          "name": "stdout"
        }
      ]
    },
    {
      "cell_type": "code",
      "metadata": {
        "id": "E1ii14VWvnXH"
      },
      "source": [
        ""
      ],
      "execution_count": null,
      "outputs": []
    }
  ]
}