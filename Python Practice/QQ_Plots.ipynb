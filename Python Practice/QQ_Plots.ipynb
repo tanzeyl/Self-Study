{
  "nbformat": 4,
  "nbformat_minor": 0,
  "metadata": {
    "colab": {
      "name": "QQ Plots.ipynb",
      "provenance": [],
      "authorship_tag": "ABX9TyP5nMvRyrqTJxWinA+xozoy",
      "include_colab_link": true
    },
    "kernelspec": {
      "name": "python3",
      "display_name": "Python 3"
    },
    "language_info": {
      "name": "python"
    }
  },
  "cells": [
    {
      "cell_type": "markdown",
      "metadata": {
        "id": "view-in-github",
        "colab_type": "text"
      },
      "source": [
        "<a href=\"https://colab.research.google.com/github/tanzeyl/Self-Study/blob/main/QQ_Plots.ipynb\" target=\"_parent\"><img src=\"https://colab.research.google.com/assets/colab-badge.svg\" alt=\"Open In Colab\"/></a>"
      ]
    },
    {
      "cell_type": "code",
      "metadata": {
        "colab": {
          "base_uri": "https://localhost:8080/",
          "height": 1000
        },
        "id": "RVHm8VuB8cuC",
        "outputId": "2f7b6fd3-80de-43d5-8f39-c681f991d9dd"
      },
      "source": [
        "import numpy as np\n",
        "import pylab\n",
        "import scipy.stats as stats\n",
        "std_nrml = np.random.normal(loc = 0, scale = 1, size = 1000)\n",
        "for i in range(0,101):\n",
        "  print(i, np.percentile(std_nrml, i))\n",
        "measurements = np.random.normal(loc = 20, scale = 5, size = 100000)\n",
        "stats.probplot(measurements, dist=\"norm\", plot=pylab)"
      ],
      "execution_count": 9,
      "outputs": [
        {
          "output_type": "stream",
          "text": [
            "0 -3.0089452614366783\n",
            "1 -2.205845466209733\n",
            "2 -1.905532162696926\n",
            "3 -1.8194563427200028\n",
            "4 -1.716622518755645\n",
            "5 -1.657633263533994\n",
            "6 -1.5159750300095864\n",
            "7 -1.4346246085996062\n",
            "8 -1.3888236041506488\n",
            "9 -1.3382575264625753\n",
            "10 -1.2872554970819368\n",
            "11 -1.200011743645595\n",
            "12 -1.1555922143528647\n",
            "13 -1.097293694402187\n",
            "14 -1.0524558915237106\n",
            "15 -1.0160964502720655\n",
            "16 -0.9613281776090219\n",
            "17 -0.9267583255437544\n",
            "18 -0.8905741917615326\n",
            "19 -0.8642721532094055\n",
            "20 -0.8303921951467976\n",
            "21 -0.7868898654734312\n",
            "22 -0.7475623732426561\n",
            "23 -0.7152203170516589\n",
            "24 -0.6738502800714359\n",
            "25 -0.627076328285993\n",
            "26 -0.581661643566759\n",
            "27 -0.5469431472578979\n",
            "28 -0.5192583027688871\n",
            "29 -0.4687015108716108\n",
            "30 -0.43024198692971755\n",
            "31 -0.40150981707932665\n",
            "32 -0.3776036690762544\n",
            "33 -0.3627995535217997\n",
            "34 -0.34708271629943377\n",
            "35 -0.3036407534963377\n",
            "36 -0.27977311091527224\n",
            "37 -0.2500098120140174\n",
            "38 -0.2355825353866566\n",
            "39 -0.20048755353714098\n",
            "40 -0.17160487682870001\n",
            "41 -0.14977231068803107\n",
            "42 -0.11611874006850857\n",
            "43 -0.07696464705044609\n",
            "44 -0.06341386502065473\n",
            "45 -0.037160828153378275\n",
            "46 -0.0007707538607225068\n",
            "47 0.025444537306387027\n",
            "48 0.04356387722705754\n",
            "49 0.07316913927088563\n",
            "50 0.10811309498257826\n",
            "51 0.13764296938636877\n",
            "52 0.17344475901852374\n",
            "53 0.19300984177772323\n",
            "54 0.209105237648171\n",
            "55 0.24637487798512397\n",
            "56 0.2611106874111955\n",
            "57 0.2833354584336074\n",
            "58 0.2995867664848083\n",
            "59 0.32687392864711573\n",
            "60 0.3592172133614323\n",
            "61 0.3786063206412438\n",
            "62 0.3948215938359931\n",
            "63 0.42108624216774393\n",
            "64 0.4362705487266324\n",
            "65 0.4690307064562944\n",
            "66 0.49339094735842814\n",
            "67 0.5138108293225798\n",
            "68 0.5600074245416465\n",
            "69 0.5884479070873713\n",
            "70 0.6203489998719133\n",
            "71 0.6469843480685364\n",
            "72 0.6637068250058324\n",
            "73 0.6833949949545192\n",
            "74 0.7003730436477005\n",
            "75 0.7360213765248629\n",
            "76 0.7814661729060421\n",
            "77 0.8109195972085537\n",
            "78 0.8243290235964545\n",
            "79 0.8845172774495749\n",
            "80 0.8996446328684808\n",
            "81 0.9407451809645005\n",
            "82 0.9948485928167199\n",
            "83 1.037806137090853\n",
            "84 1.067244049221831\n",
            "85 1.1337255882031694\n",
            "86 1.1661780754710105\n",
            "87 1.2051857706372364\n",
            "88 1.2435906560982715\n",
            "89 1.292923317375209\n",
            "90 1.344270508793457\n",
            "91 1.4040462460473493\n",
            "92 1.465089475258532\n",
            "93 1.500322733110785\n",
            "94 1.6050189406724569\n",
            "95 1.6754375042079233\n",
            "96 1.8125652512943622\n",
            "97 1.9449146436903222\n",
            "98 2.0573108786374545\n",
            "99 2.34029727657408\n",
            "100 2.9289299564165088\n"
          ],
          "name": "stdout"
        },
        {
          "output_type": "execute_result",
          "data": {
            "text/plain": [
              "((array([-4.34602155, -4.14724578, -4.03913009, ...,  4.03913009,\n",
              "          4.14724578,  4.34602155]),\n",
              "  array([-0.71361551,  0.0941517 ,  0.21825263, ..., 41.24418754,\n",
              "         41.39095526, 42.26641204])),\n",
              " (5.0017737472803825, 19.99744874278093, 0.9999928701659767))"
            ]
          },
          "metadata": {
            "tags": []
          },
          "execution_count": 9
        },
        {
          "output_type": "display_data",
          "data": {
            "image/png": "[encoded data removed]",
            "text/plain": [
              "<Figure size 432x288 with 1 Axes>"
            ]
          },
          "metadata": {
            "tags": [],
            "needs_background": "light"
          }
        }
      ]
    },
    {
      "cell_type": "code",
      "metadata": {
        "colab": {
          "base_uri": "https://localhost:8080/"
        },
        "id": "c4lC0Omb8p3X",
        "outputId": "a74516bd-afe9-4028-a66e-4d3daf79a0cc"
      },
      "source": [
        " "
      ],
      "execution_count": 2,
      "outputs": [
        {
          "output_type": "stream",
          "text": [
            "0 -3.4055008297420084\n",
            "1 -2.3476946691553215\n",
            "2 -2.0346878376997424\n",
            "3 -1.8819433096847502\n",
            "4 -1.7758548510715184\n",
            "5 -1.6210539301339382\n",
            "6 -1.520176094466987\n",
            "7 -1.4679545351845202\n",
            "8 -1.4219964214308352\n",
            "9 -1.3615151987987293\n",
            "10 -1.2699479929363278\n",
            "11 -1.2210625944839617\n",
            "12 -1.1939279796404192\n",
            "13 -1.1436705930597706\n",
            "14 -1.0898116814680103\n",
            "15 -1.0439270667478928\n",
            "16 -1.0056348855031598\n",
            "17 -0.979100104786572\n",
            "18 -0.9456081010998393\n",
            "19 -0.902780773299428\n",
            "20 -0.8375399467864056\n",
            "21 -0.7878968665186058\n",
            "22 -0.756027497078225\n",
            "23 -0.7309617818548307\n",
            "24 -0.7041070737220596\n",
            "25 -0.6821081857551423\n",
            "26 -0.6657196481908114\n",
            "27 -0.6226785105968909\n",
            "28 -0.5930959912738135\n",
            "29 -0.5706062688468895\n",
            "30 -0.522378806183732\n",
            "31 -0.48132247433147773\n",
            "32 -0.43931182399202884\n",
            "33 -0.4170975187581021\n",
            "34 -0.3943515017517107\n",
            "35 -0.35447186166821965\n",
            "36 -0.3169466540687407\n",
            "37 -0.2884575174997488\n",
            "38 -0.27013661262922595\n",
            "39 -0.24482131694957043\n",
            "40 -0.22177554602178462\n",
            "41 -0.19947421581617675\n",
            "42 -0.1600189819587931\n",
            "43 -0.11488555008516473\n",
            "44 -0.08565229105487338\n",
            "45 -0.04594775222759748\n",
            "46 -0.029941849319907635\n",
            "47 -0.006540093192968496\n",
            "48 0.025918009048441427\n",
            "49 0.05087871796795747\n",
            "50 0.06780788414336762\n",
            "51 0.09462438731880146\n",
            "52 0.11428084332122945\n",
            "53 0.13581884247381118\n",
            "54 0.15983064430621902\n",
            "55 0.18799310297383928\n",
            "56 0.20179205849831733\n",
            "57 0.23519578316607542\n",
            "58 0.25443219133853334\n",
            "59 0.26750771960775294\n",
            "60 0.28662049842310305\n",
            "61 0.3043160080923882\n",
            "62 0.33319513362835207\n",
            "63 0.3482959187753599\n",
            "64 0.367057090727341\n",
            "65 0.39283576922923635\n",
            "66 0.42104618719919223\n",
            "67 0.4492261693558476\n",
            "68 0.496334654353763\n",
            "69 0.5260859411715899\n",
            "70 0.5581276769543839\n",
            "71 0.5866959122527402\n",
            "72 0.620255419676113\n",
            "73 0.6585354585157772\n",
            "74 0.6840151078890374\n",
            "75 0.7088056161132209\n",
            "76 0.7382103180257202\n",
            "77 0.7682358036630381\n",
            "78 0.8011206262866346\n",
            "79 0.8347096552953446\n",
            "80 0.8694764344914471\n",
            "81 0.9084884202560874\n",
            "82 0.9476848348825636\n",
            "83 0.9704224647769601\n",
            "84 1.0328091210112533\n",
            "85 1.0866103396730031\n",
            "86 1.1245086872904442\n",
            "87 1.175980070604272\n",
            "88 1.2211196793333603\n",
            "89 1.26981850694354\n",
            "90 1.3124003911467288\n",
            "91 1.3628129254306316\n",
            "92 1.410740619852941\n",
            "93 1.4674256627530846\n",
            "94 1.6182763671798512\n",
            "95 1.6723694695729348\n",
            "96 1.7321512983498846\n",
            "97 1.8671183958828819\n",
            "98 2.162055153031771\n",
            "99 2.384404031107341\n",
            "100 3.3574014367506857\n"
          ],
          "name": "stdout"
        }
      ]
    },
    {
      "cell_type": "code",
      "metadata": {
        "colab": {
          "base_uri": "https://localhost:8080/",
          "height": 992
        },
        "id": "uta3AQ0I9Dlv",
        "outputId": "f36d6408-0055-4b04-8437-b81c8708cc83"
      },
      "source": [
        "measurements = np.random.normal(loc = 20, scale = 5, size = 100)\n",
        "stats.probplot(measurements, dist=\"norm\", plot=pylab)"
      ],
      "execution_count": 5,
      "outputs": [
        {
          "output_type": "execute_result",
          "data": {
            "text/plain": [
              "((array([-2.46203784, -2.12570747, -1.93122778, -1.79044653, -1.67819304,\n",
              "         -1.58381122, -1.50174123, -1.42869743, -1.36256869, -1.30191411,\n",
              "         -1.24570419, -1.19317644, -1.14374949, -1.09696931, -1.05247413,\n",
              "         -1.00997067, -0.96921765, -0.93001393, -0.89218993, -0.85560121,\n",
              "         -0.82012357, -0.78564937, -0.75208458, -0.71934648, -0.68736185,\n",
              "         -0.65606548, -0.62539893, -0.59530962, -0.56574992, -0.53667655,\n",
              "         -0.50804994, -0.47983378, -0.45199463, -0.42450149, -0.39732558,\n",
              "         -0.37044003, -0.34381966, -0.31744076, -0.29128096, -0.26531902,\n",
              "         -0.23953472, -0.21390872, -0.18842244, -0.16305799, -0.13779803,\n",
              "         -0.1126257 , -0.08752455, -0.06247843, -0.03747145, -0.01248789,\n",
              "          0.01248789,  0.03747145,  0.06247843,  0.08752455,  0.1126257 ,\n",
              "          0.13779803,  0.16305799,  0.18842244,  0.21390872,  0.23953472,\n",
              "          0.26531902,  0.29128096,  0.31744076,  0.34381966,  0.37044003,\n",
              "          0.39732558,  0.42450149,  0.45199463,  0.47983378,  0.50804994,\n",
              "          0.53667655,  0.56574992,  0.59530962,  0.62539893,  0.65606548,\n",
              "          0.68736185,  0.71934648,  0.75208458,  0.78564937,  0.82012357,\n",
              "          0.85560121,  0.89218993,  0.93001393,  0.96921765,  1.00997067,\n",
              "          1.05247413,  1.09696931,  1.14374949,  1.19317644,  1.24570419,\n",
              "          1.30191411,  1.36256869,  1.42869743,  1.50174123,  1.58381122,\n",
              "          1.67819304,  1.79044653,  1.93122778,  2.12570747,  2.46203784]),\n",
              "  array([ 8.45161334, 10.01175354, 11.33105884, 11.79805856, 12.01105014,\n",
              "         12.16746922, 12.55289289, 12.98207049, 13.08062404, 13.09660365,\n",
              "         13.76784442, 14.11014997, 14.14086687, 14.20032326, 14.70760279,\n",
              "         14.70999011, 14.86166492, 15.17831385, 15.24022686, 15.25842672,\n",
              "         15.48476769, 15.70078384, 15.75180801, 15.78985681, 15.87162981,\n",
              "         16.05220628, 16.12215367, 16.27786405, 16.38083154, 16.66572768,\n",
              "         16.95950403, 17.31821213, 17.44037106, 17.50256784, 17.54145734,\n",
              "         17.54288192, 17.66148322, 17.69764925, 17.75537691, 17.78021715,\n",
              "         17.86921485, 18.06663604, 18.07343472, 18.23532014, 18.28301587,\n",
              "         18.60936458, 18.73971564, 18.91465169, 18.98712126, 19.01957397,\n",
              "         19.03573976, 19.06346596, 19.1007721 , 19.11936907, 19.21078874,\n",
              "         19.45756296, 19.64414431, 19.65206183, 19.66752846, 19.8863235 ,\n",
              "         20.04201259, 20.21342938, 20.23156194, 20.79202978, 20.9250525 ,\n",
              "         21.09877693, 21.21351474, 21.31281985, 21.65048283, 21.67165269,\n",
              "         22.32131179, 23.4894024 , 23.83235564, 24.22215505, 24.32695337,\n",
              "         24.35889361, 24.98865869, 25.25796711, 25.28573056, 25.43260036,\n",
              "         25.45501759, 25.52619304, 26.07046155, 26.2197593 , 26.2682092 ,\n",
              "         26.58321433, 27.63784824, 27.63962756, 27.76381564, 27.80968441,\n",
              "         27.83396701, 27.84125641, 27.96647649, 28.71250892, 28.76968415,\n",
              "         30.48336996, 30.51238124, 32.98740201, 34.03962418, 38.97246687])),\n",
              " (5.660741347380603, 20.05352090052998, 0.9812861493157479))"
            ]
          },
          "metadata": {
            "tags": []
          },
          "execution_count": 5
        },
        {
          "output_type": "display_data",
          "data": {
            "image/png": "[encoded data removed]",
            "text/plain": [
              "<Figure size 432x288 with 1 Axes>"
            ]
          },
          "metadata": {
            "tags": [],
            "needs_background": "light"
          }
        }
      ]
    },
    {
      "cell_type": "code",
      "metadata": {
        "id": "YldBfAA_9R6b"
      },
      "source": [
        ""
      ],
      "execution_count": null,
      "outputs": []
    }
  ]
}