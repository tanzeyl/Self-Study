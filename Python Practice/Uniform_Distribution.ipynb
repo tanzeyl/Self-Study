{
  "nbformat": 4,
  "nbformat_minor": 0,
  "metadata": {
    "colab": {
      "name": "Uniform Distribution.ipynb",
      "provenance": [],
      "collapsed_sections": [],
      "authorship_tag": "ABX9TyOlVu1Fe4pNUcfdZsaTSPEV",
      "include_colab_link": true
    },
    "kernelspec": {
      "name": "python3",
      "display_name": "Python 3"
    },
    "language_info": {
      "name": "python"
    }
  },
  "cells": [
    {
      "cell_type": "markdown",
      "metadata": {
        "id": "view-in-github",
        "colab_type": "text"
      },
      "source": [
        "<a href=\"https://colab.research.google.com/github/tanzeyl/Self-Study/blob/main/Uniform_Distribution.ipynb\" target=\"_parent\"><img src=\"https://colab.research.google.com/assets/colab-badge.svg\" alt=\"Open In Colab\"/></a>"
      ]
    },
    {
      "cell_type": "code",
      "metadata": {
        "colab": {
          "base_uri": "https://localhost:8080/"
        },
        "id": "0WAiApgfC7iU",
        "outputId": "c69af38e-7e7e-4342-8dba-d8610b15c732"
      },
      "source": [
        "import random\n",
        "from sklearn import datasets\n",
        "iris = datasets.load_iris()\n",
        "d = iris.data\n",
        "d.shape"
      ],
      "execution_count": 4,
      "outputs": [
        {
          "output_type": "execute_result",
          "data": {
            "text/plain": [
              "(150, 4)"
            ]
          },
          "metadata": {
            "tags": []
          },
          "execution_count": 4
        }
      ]
    },
    {
      "cell_type": "code",
      "metadata": {
        "id": "ox9BZv-xDpQL",
        "colab": {
          "base_uri": "https://localhost:8080/"
        },
        "outputId": "de19ffaf-4ddc-4f0b-a362-5e3595a7d900"
      },
      "source": [
        "#Uniformly Sampling the dataset (each data point has an equal chance of getting sampled)\n",
        "#Sampling 30 points randonly from 150 data points\n",
        "n = 150\n",
        "m = 30\n",
        "p = m/n\n",
        "sample = []\n",
        "for i in range(0, n):\n",
        "  if random.random() <= p:\n",
        "    sample.append(d[i,:])\n",
        "print(len(sample))"
      ],
      "execution_count": 8,
      "outputs": [
        {
          "output_type": "stream",
          "text": [
            "34\n"
          ],
          "name": "stdout"
        }
      ]
    },
    {
      "cell_type": "code",
      "metadata": {
        "id": "Tp6OHstmorU_"
      },
      "source": [
        ""
      ],
      "execution_count": 5,
      "outputs": []
    }
  ]
}