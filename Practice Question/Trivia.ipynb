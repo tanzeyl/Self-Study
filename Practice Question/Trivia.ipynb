{
 "cells": [
  {
   "cell_type": "code",
   "execution_count": 1,
   "metadata": {},
   "outputs": [],
   "source": [
    "import json\n",
    "import requests"
   ]
  },
  {
   "cell_type": "code",
   "execution_count": 9,
   "metadata": {},
   "outputs": [
    {
     "name": "stdout",
     "output_type": "stream",
     "text": [
      "\n",
      "\n",
      "\n",
      "Here comes question number 1.\n",
      "Which painting was not made by Vincent Van Gogh?\n",
      "Your options are as follows.\n",
      "1. The Ninth Wave\n",
      "2. Caf&eacute; Terrace at Night\n",
      "3. Bedroom In Arles\n",
      "4. Starry Night\n",
      "Enter your answer. Type quit to stop playing.the ninth wave\n",
      "You are correct. You have given 1 correct answers out of 1 questions.\n",
      "\n",
      "\n",
      "\n",
      "Here comes question number 2.\n",
      "Who painted the Mona Lisa?\n",
      "Your options are as follows.\n",
      "1. Leonardo da Vinci\n",
      "2. Pablo Picasso\n",
      "3. Claude Monet\n",
      "4. Vincent van Gogh\n",
      "Enter your answer. Type quit to stop playing.leonardo da vinci\n",
      "You are correct. You have given 2 correct answers out of 2 questions.\n",
      "\n",
      "\n",
      "\n",
      "Here comes question number 3.\n",
      "Who painted the Mona Lisa?\n",
      "Your options are as follows.\n",
      "1. Leonardo da Vinci\n",
      "2. Pablo Picasso\n",
      "3. Claude Monet\n",
      "4. Vincent van Gogh\n",
      "Enter your answer. Type quit to stop playing.quit\n",
      "You are wrong. You have given 1 wong answers out of 3 questions.\n"
     ]
    }
   ],
   "source": [
    "i = 1\n",
    "score = 0\n",
    "ans = \"TEXT\"\n",
    "while (ans.lower() != \"quit\"):\n",
    "    r = requests.get(\"https://opentdb.com/api.php?amount=1&category=25&difficulty=easy&type=multiple\")\n",
    "    questions = json.loads(r.text)\n",
    "    print(\"\\n\\n\")\n",
    "    print(\"Here comes question number {}.\".format(i))\n",
    "    print(questions[\"results\"][0][\"question\"])\n",
    "    print(\"Your options are as follows.\")\n",
    "    print(\"1. \" + questions[\"results\"][0][\"correct_answer\"])\n",
    "    print(\"2. \" + questions[\"results\"][0][\"incorrect_answers\"][0])\n",
    "    print(\"3. \" + questions[\"results\"][0][\"incorrect_answers\"][1])\n",
    "    print(\"4. \" + questions[\"results\"][0][\"incorrect_answers\"][2])\n",
    "    ans = input(\"Enter your answer. Type quit to stop playing.\")\n",
    "    if ans.lower() == questions[\"results\"][0][\"correct_answer\"].lower():\n",
    "        score += 1\n",
    "        print(\"You are correct. You have given {} correct answers out of {} questions.\".format(score, i))\n",
    "    else:\n",
    "        print(\"You are wrong. You have given {} wong answers out of {} questions.\".format((i-score),i))\n",
    "    i += 1"
   ]
  },
  {
   "cell_type": "code",
   "execution_count": 3,
   "metadata": {},
   "outputs": [
    {
     "data": {
      "text/plain": [
       "'{\"response_code\":0,\"results\":[{\"category\":\"Art\",\"type\":\"multiple\",\"difficulty\":\"easy\",\"question\":\"Who painted The Starry Night?\",\"correct_answer\":\"Vincent van Gogh\",\"incorrect_answers\":[\"Pablo Picasso\",\"Leonardo da Vinci\",\"Michelangelo\"]}]}'"
      ]
     },
     "execution_count": 3,
     "metadata": {},
     "output_type": "execute_result"
    }
   ],
   "source": [
    "r.text"
   ]
  },
  {
   "cell_type": "code",
   "execution_count": null,
   "metadata": {},
   "outputs": [],
   "source": []
  }
 ],
 "metadata": {
  "kernelspec": {
   "display_name": "Python 3",
   "language": "python",
   "name": "python3"
  },
  "language_info": {
   "codemirror_mode": {
    "name": "ipython",
    "version": 3
   },
   "file_extension": ".py",
   "mimetype": "text/x-python",
   "name": "python",
   "nbconvert_exporter": "python",
   "pygments_lexer": "ipython3",
   "version": "3.8.5"
  }
 },
 "nbformat": 4,
 "nbformat_minor": 4
}
