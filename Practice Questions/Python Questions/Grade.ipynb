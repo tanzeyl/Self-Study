{
 "cells": [
  {
   "cell_type": "code",
   "execution_count": null,
   "id": "f6745a4f",
   "metadata": {},
   "outputs": [],
   "source": [
    "s = []\n",
    "for i in range(0,3):\n",
    "    s[]"
   ]
  },
  {
   "cell_type": "code",
   "execution_count": null,
   "id": "880f3ca1",
   "metadata": {},
   "outputs": [],
   "source": []
  },
  {
   "cell_type": "code",
   "execution_count": null,
   "id": "a7f85e21",
   "metadata": {},
   "outputs": [],
   "source": []
  }
 ],
 "metadata": {
  "kernelspec": {
   "display_name": "Python 3",
   "language": "python",
   "name": "python3"
  },
  "language_info": {
   "codemirror_mode": {
    "name": "ipython",
    "version": 3
   },
   "file_extension": ".py",
   "mimetype": "text/x-python",
   "name": "python",
   "nbconvert_exporter": "python",
   "pygments_lexer": "ipython3",
   "version": "3.9.2"
  }
 },
 "nbformat": 4,
 "nbformat_minor": 5
}
