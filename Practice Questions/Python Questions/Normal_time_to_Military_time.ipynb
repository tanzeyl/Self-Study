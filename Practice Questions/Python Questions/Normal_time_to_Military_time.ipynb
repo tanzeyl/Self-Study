{
 "cells": [
  {
   "cell_type": "code",
   "execution_count": 16,
   "id": "82a4c891",
   "metadata": {},
   "outputs": [
    {
     "ename": "IndentationError",
     "evalue": "expected an indented block (<ipython-input-16-a1f27c069410>, line 5)",
     "output_type": "error",
     "traceback": [
      "\u001b[1;36m  File \u001b[1;32m\"<ipython-input-16-a1f27c069410>\"\u001b[1;36m, line \u001b[1;32m5\u001b[0m\n\u001b[1;33m    elif s[0] == \"12\" and s[2][2:] == \"AM\":\u001b[0m\n\u001b[1;37m    ^\u001b[0m\n\u001b[1;31mIndentationError\u001b[0m\u001b[1;31m:\u001b[0m expected an indented block\n"
     ]
    }
   ],
   "source": [
    "s = input().split(\":\")\n",
    "if s[2][2:] == \"PM\":\n",
    "    print(\"{}:{}:{}\".format(str(12+int(s[0])),s[1],s[2][:2]))\n",
    "elif s[2][:2] == \"PM\" and s[0] == \"12\":\n",
    "    print(\"00:{}:{}\".format(s[1],s[2][:2]))\n",
    "elif s[0] == \"12\" and s[2][2:] == \"AM\":\n",
    "    print(\"00:{}:{}\".format(s[1],s[2][:2]))\n",
    "else:\n",
    "    print(\"{}:{}:{}\".format(s[0],s[1],s[2][:2]))\n"
   ]
  },
  {
   "cell_type": "code",
   "execution_count": 14,
   "id": "73e7e7c3",
   "metadata": {},
   "outputs": [
    {
     "data": {
      "text/plain": [
       "2602"
      ]
     },
     "execution_count": 14,
     "metadata": {},
     "output_type": "execute_result"
    }
   ],
   "source": []
  },
  {
   "cell_type": "code",
   "execution_count": null,
   "id": "e6a249d3",
   "metadata": {},
   "outputs": [],
   "source": []
  }
 ],
 "metadata": {
  "kernelspec": {
   "display_name": "Python 3",
   "language": "python",
   "name": "python3"
  },
  "language_info": {
   "codemirror_mode": {
    "name": "ipython",
    "version": 3
   },
   "file_extension": ".py",
   "mimetype": "text/x-python",
   "name": "python",
   "nbconvert_exporter": "python",
   "pygments_lexer": "ipython3",
   "version": "3.9.2"
  }
 },
 "nbformat": 4,
 "nbformat_minor": 5
}
