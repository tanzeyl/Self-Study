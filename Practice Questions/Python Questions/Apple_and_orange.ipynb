{
 "cells": [
  {
   "cell_type": "code",
   "execution_count": 45,
   "id": "668b7719",
   "metadata": {},
   "outputs": [
    {
     "name": "stdout",
     "output_type": "stream",
     "text": [
      "7 10\n",
      "4 12\n",
      "3 2\n",
      "4 3 2\n",
      "3 4\n",
      "2\n",
      "0\n"
     ]
    }
   ],
   "source": [
    "x = input().split()\n",
    "s = int(x[0])\n",
    "t = int(x[1])\n",
    "y = input().split()\n",
    "a = int(y[0])\n",
    "b = int(y[1])\n",
    "z = input().split()\n",
    "m = int(z[0])\n",
    "n = int(z[1])\n",
    "list1 = []\n",
    "list2 = []\n",
    "list1.extend(input().split())\n",
    "i = 0\n",
    "for item in range(0,len(list1)):\n",
    "    list1[i] = int(list1[i])\n",
    "    i += 1\n",
    "list2.extend(input().split())\n",
    "j = 0\n",
    "for item in range(0,len(list2)):\n",
    "    list2[j] = int(list2[j])\n",
    "    j += 1\n",
    "apple_c = 0\n",
    "orange_c = 0\n",
    "d = 0\n",
    "e = 0\n",
    "for item in range(0,m):\n",
    "    if a + list1[d] >= s:\n",
    "        apple_c += 1\n",
    "    d += 1\n",
    "for item in range(0,n):\n",
    "    if b + list2[e] <= t:\n",
    "        orange_c += 1\n",
    "    e += 1\n",
    "print(\"{}\\n{}\".format(apple_c,orange_c))"
   ]
  },
  {
   "cell_type": "code",
   "execution_count": 36,
   "id": "4556b1a1",
   "metadata": {},
   "outputs": [
    {
     "name": "stdout",
     "output_type": "stream",
     "text": [
      "2 3 4\n"
     ]
    },
    {
     "data": {
      "text/plain": [
       "[2, 3, 4]"
      ]
     },
     "execution_count": 36,
     "metadata": {},
     "output_type": "execute_result"
    }
   ],
   "source": [
    "s = []\n",
    "s.extend(input().split())\n",
    "i = 0\n",
    "for item in range(0,len(s)):\n",
    "    s[i] = int(s[i])\n",
    "    i += 1\n",
    "s"
   ]
  },
  {
   "cell_type": "code",
   "execution_count": 31,
   "id": "80f65fd2",
   "metadata": {},
   "outputs": [
    {
     "ename": "TypeError",
     "evalue": "int() argument must be a string, a bytes-like object or a number, not 'list'",
     "output_type": "error",
     "traceback": [
      "\u001b[1;31m---------------------------------------------------------------------------\u001b[0m",
      "\u001b[1;31mTypeError\u001b[0m                                 Traceback (most recent call last)",
      "\u001b[1;32m<ipython-input-31-418e374db8e2>\u001b[0m in \u001b[0;36m<module>\u001b[1;34m\u001b[0m\n\u001b[0;32m      1\u001b[0m \u001b[0ms\u001b[0m \u001b[1;33m=\u001b[0m \u001b[1;33m[\u001b[0m\u001b[1;34m\"1\"\u001b[0m\u001b[1;33m,\u001b[0m \u001b[1;34m\"2\"\u001b[0m\u001b[1;33m,\u001b[0m \u001b[1;34m\"3\"\u001b[0m\u001b[1;33m]\u001b[0m\u001b[1;33m\u001b[0m\u001b[1;33m\u001b[0m\u001b[0m\n\u001b[0;32m      2\u001b[0m \u001b[0ma\u001b[0m \u001b[1;33m=\u001b[0m \u001b[0ms\u001b[0m\u001b[1;33m\u001b[0m\u001b[1;33m\u001b[0m\u001b[0m\n\u001b[1;32m----> 3\u001b[1;33m \u001b[0mint\u001b[0m\u001b[1;33m(\u001b[0m\u001b[0ma\u001b[0m\u001b[1;33m)\u001b[0m\u001b[1;33m\u001b[0m\u001b[1;33m\u001b[0m\u001b[0m\n\u001b[0m",
      "\u001b[1;31mTypeError\u001b[0m: int() argument must be a string, a bytes-like object or a number, not 'list'"
     ]
    }
   ],
   "source": [
    "s = [\"1\", \"2\", \"3\"]\n",
    "a = s\n"
   ]
  },
  {
   "cell_type": "code",
   "execution_count": 46,
   "id": "eb87e31c",
   "metadata": {},
   "outputs": [
    {
     "data": {
      "text/plain": [
       "1134333242133"
      ]
     },
     "execution_count": 46,
     "metadata": {},
     "output_type": "execute_result"
    }
   ],
   "source": [
    "s = 1134333242133\n",
    "s"
   ]
  },
  {
   "cell_type": "code",
   "execution_count": null,
   "id": "4b2b2b17",
   "metadata": {},
   "outputs": [],
   "source": []
  },
  {
   "cell_type": "code",
   "execution_count": null,
   "id": "dbb50479",
   "metadata": {},
   "outputs": [],
   "source": []
  }
 ],
 "metadata": {
  "kernelspec": {
   "display_name": "Python 3",
   "language": "python",
   "name": "python3"
  },
  "language_info": {
   "codemirror_mode": {
    "name": "ipython",
    "version": 3
   },
   "file_extension": ".py",
   "mimetype": "text/x-python",
   "name": "python",
   "nbconvert_exporter": "python",
   "pygments_lexer": "ipython3",
   "version": "3.9.2"
  }
 },
 "nbformat": 4,
 "nbformat_minor": 5
}
