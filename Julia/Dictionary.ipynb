{
 "cells": [
  {
   "cell_type": "code",
   "execution_count": 2,
   "id": "4ef00497",
   "metadata": {},
   "outputs": [
    {
     "data": {
      "text/plain": [
       "Dict{String, Int64} with 3 entries:\n",
       "  \"Mercedes\"     => 200000\n",
       "  \"BMW\"          => 100000\n",
       "  \"Rolls Royace\" => 500000"
      ]
     },
     "execution_count": 2,
     "metadata": {},
     "output_type": "execute_result"
    }
   ],
   "source": [
    "Cars = Dict(\"BMW\" => 100000, \"Mercedes\" => 200000, \"Rolls Royace\" => 500000)\n",
    "#it has strings as keys"
   ]
  },
  {
   "cell_type": "code",
   "execution_count": 3,
   "id": "c3e03e91",
   "metadata": {},
   "outputs": [
    {
     "data": {
      "text/plain": [
       "100000"
      ]
     },
     "execution_count": 3,
     "metadata": {},
     "output_type": "execute_result"
    }
   ],
   "source": [
    "Cars[\"BMW\"]"
   ]
  },
  {
   "cell_type": "code",
   "execution_count": 5,
   "id": "24d77285",
   "metadata": {},
   "outputs": [
    {
     "data": {
      "text/plain": [
       "Dict{Symbol, Int64} with 3 entries:\n",
       "  :Pagani  => 400000\n",
       "  :Audi    => 300000\n",
       "  :Ferrari => 200000"
      ]
     },
     "execution_count": 5,
     "metadata": {},
     "output_type": "execute_result"
    }
   ],
   "source": [
    "Cars2 = Dict(:Ferrari => 200000, :Audi => 300000, :Pagani => 400000)\n",
    "#it has symbols as keys"
   ]
  },
  {
   "cell_type": "code",
   "execution_count": 6,
   "id": "e2dc9482",
   "metadata": {},
   "outputs": [
    {
     "data": {
      "text/plain": [
       "200000"
      ]
     },
     "execution_count": 6,
     "metadata": {},
     "output_type": "execute_result"
    }
   ],
   "source": [
    "Cars2[:Ferrari]"
   ]
  },
  {
   "cell_type": "code",
   "execution_count": 7,
   "id": "a4fad135",
   "metadata": {},
   "outputs": [
    {
     "data": {
      "text/plain": [
       "true"
      ]
     },
     "execution_count": 7,
     "metadata": {},
     "output_type": "execute_result"
    }
   ],
   "source": [
    "haskey(Cars, \"BMW\")"
   ]
  },
  {
   "cell_type": "code",
   "execution_count": 8,
   "id": "b00b42a2",
   "metadata": {},
   "outputs": [
    {
     "data": {
      "text/plain": [
       "false"
      ]
     },
     "execution_count": 8,
     "metadata": {},
     "output_type": "execute_result"
    }
   ],
   "source": [
    "haskey(Cars2, :Cadilac)"
   ]
  },
  {
   "cell_type": "code",
   "execution_count": 9,
   "id": "b78d4707",
   "metadata": {},
   "outputs": [
    {
     "data": {
      "text/plain": [
       "Dict{Symbol, Int64} with 2 entries:\n",
       "  :Pagani => 400000\n",
       "  :Audi   => 300000"
      ]
     },
     "execution_count": 9,
     "metadata": {},
     "output_type": "execute_result"
    }
   ],
   "source": [
    "delete!(Cars2, :Ferrari)"
   ]
  },
  {
   "cell_type": "code",
   "execution_count": 10,
   "id": "ab910aeb",
   "metadata": {},
   "outputs": [
    {
     "data": {
      "text/plain": [
       "Dict{Symbol, Int64} with 2 entries:\n",
       "  :Pagani => 400000\n",
       "  :Audi   => 300000"
      ]
     },
     "execution_count": 10,
     "metadata": {},
     "output_type": "execute_result"
    }
   ],
   "source": [
    "Cars2"
   ]
  },
  {
   "cell_type": "code",
   "execution_count": 13,
   "id": "234e94d6",
   "metadata": {},
   "outputs": [
    {
     "data": {
      "text/plain": [
       "KeySet for a Dict{String, Int64} with 3 entries. Keys:\n",
       "  \"Mercedes\"\n",
       "  \"BMW\"\n",
       "  \"Rolls Royace\""
      ]
     },
     "execution_count": 13,
     "metadata": {},
     "output_type": "execute_result"
    }
   ],
   "source": [
    "keys(Cars)"
   ]
  },
  {
   "cell_type": "code",
   "execution_count": 14,
   "id": "5c091839",
   "metadata": {},
   "outputs": [
    {
     "data": {
      "text/plain": [
       "ValueIterator for a Dict{String, Int64} with 3 entries. Values:\n",
       "  200000\n",
       "  100000\n",
       "  500000"
      ]
     },
     "execution_count": 14,
     "metadata": {},
     "output_type": "execute_result"
    }
   ],
   "source": [
    "values(Cars)"
   ]
  },
  {
   "cell_type": "code",
   "execution_count": 15,
   "id": "7199864d",
   "metadata": {},
   "outputs": [
    {
     "data": {
      "text/plain": [
       "Dict{Any, Int64} with 5 entries:\n",
       "  :Pagani        => 400000\n",
       "  :Audi          => 300000\n",
       "  \"Mercedes\"     => 200000\n",
       "  \"BMW\"          => 100000\n",
       "  \"Rolls Royace\" => 500000"
      ]
     },
     "execution_count": 15,
     "metadata": {},
     "output_type": "execute_result"
    }
   ],
   "source": [
    "allCars = merge(Cars, Cars2)"
   ]
  },
  {
   "cell_type": "code",
   "execution_count": null,
   "id": "29a0a02f",
   "metadata": {},
   "outputs": [],
   "source": []
  }
 ],
 "metadata": {
  "kernelspec": {
   "display_name": "Julia 1.7.2",
   "language": "julia",
   "name": "julia-1.7"
  },
  "language_info": {
   "file_extension": ".jl",
   "mimetype": "application/julia",
   "name": "julia",
   "version": "1.7.2"
  }
 },
 "nbformat": 4,
 "nbformat_minor": 5
}
