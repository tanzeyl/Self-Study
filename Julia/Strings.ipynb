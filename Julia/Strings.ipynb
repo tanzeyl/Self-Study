{
 "cells": [
  {
   "cell_type": "code",
   "execution_count": 1,
   "id": "2e634f5a",
   "metadata": {},
   "outputs": [
    {
     "data": {
      "text/plain": [
       "\"My name is Tanzeel.\""
      ]
     },
     "execution_count": 1,
     "metadata": {},
     "output_type": "execute_result"
    }
   ],
   "source": [
    "s = \"My name is Tanzeel.\""
   ]
  },
  {
   "cell_type": "code",
   "execution_count": 2,
   "id": "986d8be2",
   "metadata": {},
   "outputs": [
    {
     "data": {
      "text/plain": [
       "19"
      ]
     },
     "execution_count": 2,
     "metadata": {},
     "output_type": "execute_result"
    }
   ],
   "source": [
    "length(s)"
   ]
  },
  {
   "cell_type": "code",
   "execution_count": 3,
   "id": "98912590",
   "metadata": {},
   "outputs": [
    {
     "data": {
      "text/plain": [
       "19"
      ]
     },
     "execution_count": 3,
     "metadata": {},
     "output_type": "execute_result"
    }
   ],
   "source": [
    "lastindex(s) #use this function to find the length of string as it does less computations"
   ]
  },
  {
   "cell_type": "code",
   "execution_count": 9,
   "id": "7a3ff944",
   "metadata": {},
   "outputs": [
    {
     "data": {
      "text/plain": [
       "'a': ASCII/Unicode U+0061 (category Ll: Letter, lowercase)"
      ]
     },
     "execution_count": 9,
     "metadata": {},
     "output_type": "execute_result"
    }
   ],
   "source": [
    "s[5]"
   ]
  },
  {
   "cell_type": "code",
   "execution_count": 8,
   "id": "f27a33ad",
   "metadata": {},
   "outputs": [
    {
     "data": {
      "text/plain": [
       "\"Tanzeel\""
      ]
     },
     "execution_count": 8,
     "metadata": {},
     "output_type": "execute_result"
    }
   ],
   "source": [
    "s[12:18]"
   ]
  },
  {
   "cell_type": "code",
   "execution_count": 11,
   "id": "473f92a7",
   "metadata": {},
   "outputs": [
    {
     "data": {
      "text/plain": [
       "true"
      ]
     },
     "execution_count": 11,
     "metadata": {},
     "output_type": "execute_result"
    }
   ],
   "source": [
    "isascii(s)"
   ]
  },
  {
   "cell_type": "code",
   "execution_count": 13,
   "id": "eac8b5d7",
   "metadata": {},
   "outputs": [
    {
     "name": "stdout",
     "output_type": "stream",
     "text": [
      "Tanzeel Khan"
     ]
    }
   ],
   "source": [
    "s2 = \"Tanzeel \" * \"Khan\" #string concatenation is done by \"*\"\n",
    "print(s2)"
   ]
  },
  {
   "cell_type": "code",
   "execution_count": 14,
   "id": "1ded03b1",
   "metadata": {},
   "outputs": [
    {
     "data": {
      "text/plain": [
       "\"Hello Hello Hello Hello Hello \""
      ]
     },
     "execution_count": 14,
     "metadata": {},
     "output_type": "execute_result"
    }
   ],
   "source": [
    "\"Hello \" ^ 5"
   ]
  },
  {
   "cell_type": "code",
   "execution_count": 15,
   "id": "f524bc7f",
   "metadata": {},
   "outputs": [
    {
     "data": {
      "text/plain": [
       "\"Tanzeel Khan\""
      ]
     },
     "execution_count": 15,
     "metadata": {},
     "output_type": "execute_result"
    }
   ],
   "source": [
    "string(\"Tanzeel \", \"Khan\")"
   ]
  },
  {
   "cell_type": "code",
   "execution_count": 17,
   "id": "c29188f2",
   "metadata": {},
   "outputs": [
    {
     "name": "stdout",
     "output_type": "stream",
     "text": [
      "SubString{String}[\"My\", \"name\", \"is\", \"Tanzeel.\"]"
     ]
    }
   ],
   "source": [
    "s3 = split(s)\n",
    "print(s3)"
   ]
  },
  {
   "cell_type": "code",
   "execution_count": 18,
   "id": "44f49128",
   "metadata": {},
   "outputs": [
    {
     "name": "stdout",
     "output_type": "stream",
     "text": [
      "SubString{String}[\"My nam\", \" is Tanz\", \"\", \"l.\"]"
     ]
    }
   ],
   "source": [
    "s4 = split(s, \"e\")\n",
    "print(s4)"
   ]
  },
  {
   "cell_type": "code",
   "execution_count": 19,
   "id": "1998d920",
   "metadata": {},
   "outputs": [
    {
     "name": "stdout",
     "output_type": "stream",
     "text": [
      "SubString{String}[\"My \", \" is Tanzeel.\"]"
     ]
    }
   ],
   "source": [
    "s5 = split(s, \"name\")\n",
    "print(s5)"
   ]
  },
  {
   "cell_type": "code",
   "execution_count": 20,
   "id": "6d0ac9fd",
   "metadata": {},
   "outputs": [
    {
     "name": "stdout",
     "output_type": "stream",
     "text": [
      "SubString{String}[\"M\", \"y\", \" \", \"n\", \"a\", \"m\", \"e\", \" \", \"i\", \"s\", \" \", \"T\", \"a\", \"n\", \"z\", \"e\", \"e\", \"l\", \".\"]"
     ]
    }
   ],
   "source": [
    "s6 = split(s, \"\")\n",
    "print(s6)"
   ]
  },
  {
   "cell_type": "code",
   "execution_count": 21,
   "id": "2f32d4f8",
   "metadata": {},
   "outputs": [
    {
     "data": {
      "text/plain": [
       "100"
      ]
     },
     "execution_count": 21,
     "metadata": {},
     "output_type": "execute_result"
    }
   ],
   "source": [
    "parse(Int64, \"100\")"
   ]
  },
  {
   "cell_type": "code",
   "execution_count": 22,
   "id": "37c9ea80",
   "metadata": {},
   "outputs": [
    {
     "data": {
      "text/plain": [
       "100.56"
      ]
     },
     "execution_count": 22,
     "metadata": {},
     "output_type": "execute_result"
    }
   ],
   "source": [
    "parse(Float64, \"100.56\")"
   ]
  },
  {
   "cell_type": "code",
   "execution_count": 26,
   "id": "75322a83",
   "metadata": {},
   "outputs": [
    {
     "data": {
      "text/plain": [
       "true"
      ]
     },
     "execution_count": 26,
     "metadata": {},
     "output_type": "execute_result"
    }
   ],
   "source": [
    "in('M', s)"
   ]
  },
  {
   "cell_type": "code",
   "execution_count": 27,
   "id": "9cfa1bee",
   "metadata": {},
   "outputs": [
    {
     "data": {
      "text/plain": [
       "true"
      ]
     },
     "execution_count": 27,
     "metadata": {},
     "output_type": "execute_result"
    }
   ],
   "source": [
    "occursin(\"name\", s)"
   ]
  },
  {
   "cell_type": "code",
   "execution_count": 29,
   "id": "d7cb84fc",
   "metadata": {},
   "outputs": [
    {
     "data": {
      "text/plain": [
       "7:7"
      ]
     },
     "execution_count": 29,
     "metadata": {},
     "output_type": "execute_result"
    }
   ],
   "source": [
    "findfirst(\"e\", s)"
   ]
  },
  {
   "cell_type": "code",
   "execution_count": 32,
   "id": "4ad5739b",
   "metadata": {},
   "outputs": [
    {
     "name": "stdout",
     "output_type": "stream",
     "text": [
      "My identity is Tanzeel."
     ]
    }
   ],
   "source": [
    "s7 = replace(s, \"name\" => \"identity\")\n",
    "print(s7)"
   ]
  }
 ],
 "metadata": {
  "kernelspec": {
   "display_name": "Julia 1.7.2",
   "language": "julia",
   "name": "julia-1.7"
  },
  "language_info": {
   "file_extension": ".jl",
   "mimetype": "application/julia",
   "name": "julia",
   "version": "1.7.2"
  }
 },
 "nbformat": 4,
 "nbformat_minor": 5
}
