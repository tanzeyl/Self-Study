{
 "cells": [
  {
   "cell_type": "code",
   "execution_count": 1,
   "id": "666d0314",
   "metadata": {},
   "outputs": [
    {
     "name": "stdout",
     "output_type": "stream",
     "text": [
      "[1, 2, 3, 4, 5, 6, 7, 8, 9, 10, 11, 12, 13, 14, 15, 16, 17, 18, 19, 20]"
     ]
    }
   ],
   "source": [
    "x = [i for i in 1:20]\n",
    "print(x)"
   ]
  },
  {
   "cell_type": "code",
   "execution_count": 2,
   "id": "0bb84b4a",
   "metadata": {},
   "outputs": [
    {
     "name": "stdout",
     "output_type": "stream",
     "text": [
      "[2, 4, 6, 8, 10, 12, 14, 16, 18, 20, 22, 24, 26, 28, 30, 32, 34, 36, 38, 40]"
     ]
    }
   ],
   "source": [
    "x = [i*2 for i in 1:20]\n",
    "print(x)"
   ]
  },
  {
   "cell_type": "code",
   "execution_count": 3,
   "id": "bf2da3b6",
   "metadata": {},
   "outputs": [
    {
     "name": "stdout",
     "output_type": "stream",
     "text": [
      "[2, 4, 6, 8, 10, 12, 14, 16, 18, 20]"
     ]
    }
   ],
   "source": [
    "x = [i for i in 1:20 if i%2 == 0]\n",
    "print(x)"
   ]
  },
  {
   "cell_type": "code",
   "execution_count": 7,
   "id": "49775271",
   "metadata": {},
   "outputs": [
    {
     "name": "stdout",
     "output_type": "stream",
     "text": [
      "Set([5, 4, 6, 7, 2, 10, 9, 8, 3, 1])"
     ]
    }
   ],
   "source": [
    "s = Set([i for i in 1:10])\n",
    "print(s)"
   ]
  },
  {
   "cell_type": "code",
   "execution_count": 9,
   "id": "de584867",
   "metadata": {},
   "outputs": [
    {
     "name": "stdout",
     "output_type": "stream",
     "text": [
      "Dict(\"Z\" => 26, \"Q\" => 17, \"W\" => 23, \"T\" => 20, \"C\" => 3, \"P\" => 16, \"V\" => 22, \"L\" => 12, \"O\" => 15, \"B\" => 2, \"M\" => 13, \"N\" => 14, \"H\" => 8, \"A\" => 1, \"X\" => 24, \"D\" => 4, \"G\" => 7, \"E\" => 5, \"Y\" => 25, \"I\" => 9, \"J\" => 10, \"S\" => 19, \"U\" => 21, \"K\" => 11, \"R\" => 18, \"F\" => 6)"
     ]
    }
   ],
   "source": [
    "alphabets = Dict(string(Char(x+64)) => x for x in 1:26)\n",
    "print(alphabets)"
   ]
  },
  {
   "cell_type": "code",
   "execution_count": null,
   "id": "be198a07",
   "metadata": {},
   "outputs": [],
   "source": []
  }
 ],
 "metadata": {
  "kernelspec": {
   "display_name": "Julia 1.7.2",
   "language": "julia",
   "name": "julia-1.7"
  },
  "language_info": {
   "file_extension": ".jl",
   "mimetype": "application/julia",
   "name": "julia",
   "version": "1.7.2"
  }
 },
 "nbformat": 4,
 "nbformat_minor": 5
}
