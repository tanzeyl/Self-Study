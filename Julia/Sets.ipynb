{
 "cells": [
  {
   "cell_type": "code",
   "execution_count": 2,
   "id": "b738591b",
   "metadata": {},
   "outputs": [
    {
     "data": {
      "text/plain": [
       "Set{String} with 4 elements:\n",
       "  \"Nike\"\n",
       "  \"Puma\"\n",
       "  \"Reebok\"\n",
       "  \"Adidas\""
      ]
     },
     "execution_count": 2,
     "metadata": {},
     "output_type": "execute_result"
    }
   ],
   "source": [
    "sportsBrands = Set([\"Adidas\", \"Nike\", \"Puma\", \"Reebok\"])"
   ]
  },
  {
   "cell_type": "code",
   "execution_count": 3,
   "id": "373b038d",
   "metadata": {},
   "outputs": [
    {
     "data": {
      "text/plain": [
       "true"
      ]
     },
     "execution_count": 3,
     "metadata": {},
     "output_type": "execute_result"
    }
   ],
   "source": [
    "in(\"Adidas\", sportsBrands)"
   ]
  },
  {
   "cell_type": "code",
   "execution_count": 4,
   "id": "d515c5d3",
   "metadata": {},
   "outputs": [
    {
     "data": {
      "text/plain": [
       "false"
      ]
     },
     "execution_count": 4,
     "metadata": {},
     "output_type": "execute_result"
    }
   ],
   "source": [
    "in(\"HRX\", sportsBrands)"
   ]
  },
  {
   "cell_type": "code",
   "execution_count": 5,
   "id": "ca4aadc2",
   "metadata": {},
   "outputs": [
    {
     "data": {
      "text/plain": [
       "Set{String} with 4 elements:\n",
       "  \"Nike\"\n",
       "  \"HRX\"\n",
       "  \"Lacoste\"\n",
       "  \"Adidas\""
      ]
     },
     "execution_count": 5,
     "metadata": {},
     "output_type": "execute_result"
    }
   ],
   "source": [
    "sportsBrands2 = Set([\"Adidas\", \"Nike\", \"HRX\", \"Lacoste\"])"
   ]
  },
  {
   "cell_type": "code",
   "execution_count": 6,
   "id": "9ae85131",
   "metadata": {},
   "outputs": [
    {
     "data": {
      "text/plain": [
       "Set{String} with 6 elements:\n",
       "  \"Nike\"\n",
       "  \"Puma\"\n",
       "  \"Reebok\"\n",
       "  \"HRX\"\n",
       "  \"Lacoste\"\n",
       "  \"Adidas\""
      ]
     },
     "execution_count": 6,
     "metadata": {},
     "output_type": "execute_result"
    }
   ],
   "source": [
    "allBrands = union(sportsBrands, sportsBrands2)"
   ]
  },
  {
   "cell_type": "code",
   "execution_count": 8,
   "id": "a5785e3b",
   "metadata": {},
   "outputs": [
    {
     "data": {
      "text/plain": [
       "Set{String} with 2 elements:\n",
       "  \"Nike\"\n",
       "  \"Adidas\""
      ]
     },
     "execution_count": 8,
     "metadata": {},
     "output_type": "execute_result"
    }
   ],
   "source": [
    "commonBrands = intersect(sportsBrands, sportsBrands2)"
   ]
  },
  {
   "cell_type": "code",
   "execution_count": 9,
   "id": "631d7450",
   "metadata": {},
   "outputs": [
    {
     "data": {
      "text/plain": [
       "Set{String} with 2 elements:\n",
       "  \"Puma\"\n",
       "  \"Reebok\""
      ]
     },
     "execution_count": 9,
     "metadata": {},
     "output_type": "execute_result"
    }
   ],
   "source": [
    "setdiff(sportsBrands, sportsBrands2)\n",
    "#gives a set of elements which are in first set but not in second set"
   ]
  },
  {
   "cell_type": "code",
   "execution_count": 10,
   "id": "cf62a37d",
   "metadata": {},
   "outputs": [
    {
     "data": {
      "text/plain": [
       "Set{String} with 2 elements:\n",
       "  \"HRX\"\n",
       "  \"Lacoste\""
      ]
     },
     "execution_count": 10,
     "metadata": {},
     "output_type": "execute_result"
    }
   ],
   "source": [
    "setdiff(sportsBrands2, sportsBrands)"
   ]
  },
  {
   "cell_type": "code",
   "execution_count": 12,
   "id": "8ea08fe4",
   "metadata": {},
   "outputs": [
    {
     "data": {
      "text/plain": [
       "Set{String} with 5 elements:\n",
       "  \"Nike\"\n",
       "  \"Puma\"\n",
       "  \"Reebok\"\n",
       "  \"Oakley\"\n",
       "  \"Adidas\""
      ]
     },
     "execution_count": 12,
     "metadata": {},
     "output_type": "execute_result"
    }
   ],
   "source": [
    "push!(sportsBrands, \"Oakley\")"
   ]
  },
  {
   "cell_type": "code",
   "execution_count": null,
   "id": "c8293435",
   "metadata": {},
   "outputs": [],
   "source": []
  }
 ],
 "metadata": {
  "kernelspec": {
   "display_name": "Julia 1.7.2",
   "language": "julia",
   "name": "julia-1.7"
  },
  "language_info": {
   "file_extension": ".jl",
   "mimetype": "application/julia",
   "name": "julia",
   "version": "1.7.2"
  }
 },
 "nbformat": 4,
 "nbformat_minor": 5
}
