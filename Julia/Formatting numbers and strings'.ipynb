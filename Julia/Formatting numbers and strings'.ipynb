{
 "cells": [
  {
   "cell_type": "code",
   "execution_count": 1,
   "id": "dc517b6f",
   "metadata": {},
   "outputs": [],
   "source": [
    "using Printf"
   ]
  },
  {
   "cell_type": "code",
   "execution_count": 2,
   "id": "c26b10fc",
   "metadata": {},
   "outputs": [
    {
     "data": {
      "text/plain": [
       "\"Tanzeel\""
      ]
     },
     "execution_count": 2,
     "metadata": {},
     "output_type": "execute_result"
    }
   ],
   "source": [
    "name = \"Tanzeel\""
   ]
  },
  {
   "cell_type": "code",
   "execution_count": 3,
   "id": "f140e9dc",
   "metadata": {},
   "outputs": [],
   "source": [
    "name = \"Tanzeel\";"
   ]
  },
  {
   "cell_type": "code",
   "execution_count": 4,
   "id": "eb121d26",
   "metadata": {},
   "outputs": [
    {
     "name": "stdout",
     "output_type": "stream",
     "text": [
      "Hello Tanzeel."
     ]
    }
   ],
   "source": [
    "@printf(\"Hello %s.\",name)"
   ]
  },
  {
   "cell_type": "code",
   "execution_count": 5,
   "id": "10d64bb5",
   "metadata": {},
   "outputs": [
    {
     "data": {
      "text/plain": [
       "\"Hello Tanzeel.\""
      ]
     },
     "execution_count": 5,
     "metadata": {},
     "output_type": "execute_result"
    }
   ],
   "source": [
    "@sprintf(\"Hello %s.\",name)"
   ]
  },
  {
   "cell_type": "code",
   "execution_count": 6,
   "id": "2e55b55a",
   "metadata": {},
   "outputs": [
    {
     "name": "stdout",
     "output_type": "stream",
     "text": [
      "X is: 100."
     ]
    }
   ],
   "source": [
    "x = 100\n",
    "@printf(\"X is: %d.\",x)"
   ]
  },
  {
   "cell_type": "code",
   "execution_count": 10,
   "id": "731b03e9",
   "metadata": {},
   "outputs": [
    {
     "name": "stdout",
     "output_type": "stream",
     "text": [
      "Y is: 100.345."
     ]
    }
   ],
   "source": [
    "y = 100.345\n",
    "@printf(\"Y is: %.3f.\",y)"
   ]
  },
  {
   "cell_type": "code",
   "execution_count": 11,
   "id": "c0e4547e",
   "metadata": {},
   "outputs": [
    {
     "name": "stdout",
     "output_type": "stream",
     "text": [
      "Scientific notation of z is: 1.234568e+16.\n",
      "Scientific notation of z is: 1.235e+16."
     ]
    }
   ],
   "source": [
    "z = 12345678987654321\n",
    "@printf(\"Scientific notation of z is: %e.\\n\",z)\n",
    "@printf(\"Scientific notation of z is: %.3e.\",z)"
   ]
  },
  {
   "cell_type": "code",
   "execution_count": null,
   "id": "f5ae6b02",
   "metadata": {},
   "outputs": [],
   "source": []
  }
 ],
 "metadata": {
  "kernelspec": {
   "display_name": "Julia 1.7.2",
   "language": "julia",
   "name": "julia-1.7"
  },
  "language_info": {
   "file_extension": ".jl",
   "mimetype": "application/julia",
   "name": "julia",
   "version": "1.7.2"
  }
 },
 "nbformat": 4,
 "nbformat_minor": 5
}
