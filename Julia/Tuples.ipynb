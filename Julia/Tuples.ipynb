{
 "cells": [
  {
   "cell_type": "code",
   "execution_count": 1,
   "id": "28466b6e",
   "metadata": {},
   "outputs": [
    {
     "data": {
      "text/plain": [
       "(1, 2, 3, 4, 5)"
      ]
     },
     "execution_count": 1,
     "metadata": {},
     "output_type": "execute_result"
    }
   ],
   "source": [
    "t1 = (1, 2, 3, 4, 5)"
   ]
  },
  {
   "cell_type": "code",
   "execution_count": 2,
   "id": "ead73a51",
   "metadata": {},
   "outputs": [
    {
     "data": {
      "text/plain": [
       "(2, 3, 4, 5)"
      ]
     },
     "execution_count": 2,
     "metadata": {},
     "output_type": "execute_result"
    }
   ],
   "source": [
    "t1[2:5]"
   ]
  },
  {
   "cell_type": "code",
   "execution_count": 3,
   "id": "130a57b2",
   "metadata": {},
   "outputs": [
    {
     "data": {
      "text/plain": [
       "((1, 2), (3, 4))"
      ]
     },
     "execution_count": 3,
     "metadata": {},
     "output_type": "execute_result"
    }
   ],
   "source": [
    "t2 = ((1, 2), (3, 4))"
   ]
  },
  {
   "cell_type": "code",
   "execution_count": 4,
   "id": "06b60768",
   "metadata": {},
   "outputs": [
    {
     "data": {
      "text/plain": [
       "2"
      ]
     },
     "execution_count": 4,
     "metadata": {},
     "output_type": "execute_result"
    }
   ],
   "source": [
    "t2[1][2]"
   ]
  },
  {
   "cell_type": "code",
   "execution_count": 11,
   "id": "d58f90e6",
   "metadata": {},
   "outputs": [
    {
     "data": {
      "text/plain": [
       "(Physics = (86, 100), Chemistry = (84, 100), Maths = (82, 100))"
      ]
     },
     "execution_count": 11,
     "metadata": {},
     "output_type": "execute_result"
    }
   ],
   "source": [
    "marks = (Physics = (86, 100), Chemistry = (84, 100), Maths = (82, 100)) #we can also have named tuples"
   ]
  },
  {
   "cell_type": "code",
   "execution_count": 12,
   "id": "9d7aa05a",
   "metadata": {},
   "outputs": [
    {
     "data": {
      "text/plain": [
       "(86, 100)"
      ]
     },
     "execution_count": 12,
     "metadata": {},
     "output_type": "execute_result"
    }
   ],
   "source": [
    "marks.Physics"
   ]
  },
  {
   "cell_type": "code",
   "execution_count": 13,
   "id": "027c2291",
   "metadata": {},
   "outputs": [
    {
     "data": {
      "text/plain": [
       "(82, 100)"
      ]
     },
     "execution_count": 13,
     "metadata": {},
     "output_type": "execute_result"
    }
   ],
   "source": [
    "marks.Maths"
   ]
  },
  {
   "cell_type": "code",
   "execution_count": 14,
   "id": "bec4f84d",
   "metadata": {},
   "outputs": [
    {
     "data": {
      "text/plain": [
       "(PHE = (96, 100), English = (98, 100))"
      ]
     },
     "execution_count": 14,
     "metadata": {},
     "output_type": "execute_result"
    }
   ],
   "source": [
    "marks2 = (PHE = (96, 100), English = (98, 100))"
   ]
  },
  {
   "cell_type": "code",
   "execution_count": 15,
   "id": "9790d65f",
   "metadata": {},
   "outputs": [
    {
     "data": {
      "text/plain": [
       "(Physics = (86, 100), Chemistry = (84, 100), Maths = (82, 100), PHE = (96, 100), English = (98, 100))"
      ]
     },
     "execution_count": 15,
     "metadata": {},
     "output_type": "execute_result"
    }
   ],
   "source": [
    "allMarks = merge(marks, marks2)"
   ]
  },
  {
   "cell_type": "code",
   "execution_count": null,
   "id": "006ccf7b",
   "metadata": {},
   "outputs": [],
   "source": []
  }
 ],
 "metadata": {
  "kernelspec": {
   "display_name": "Julia 1.7.2",
   "language": "julia",
   "name": "julia-1.7"
  },
  "language_info": {
   "file_extension": ".jl",
   "mimetype": "application/julia",
   "name": "julia",
   "version": "1.7.2"
  }
 },
 "nbformat": 4,
 "nbformat_minor": 5
}
