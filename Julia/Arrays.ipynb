{
 "cells": [
  {
   "cell_type": "code",
   "execution_count": 1,
   "id": "53e1da76",
   "metadata": {},
   "outputs": [
    {
     "data": {
      "text/plain": [
       "5-element Vector{Int64}:\n",
       " 1\n",
       " 2\n",
       " 3\n",
       " 4\n",
       " 5"
      ]
     },
     "execution_count": 1,
     "metadata": {},
     "output_type": "execute_result"
    }
   ],
   "source": [
    "a1 = [1, 2, 3, 4, 5]"
   ]
  },
  {
   "cell_type": "code",
   "execution_count": 2,
   "id": "851c7d24",
   "metadata": {},
   "outputs": [
    {
     "data": {
      "text/plain": [
       "4-element Vector{Float64}:\n",
       " 1.0\n",
       " 2.0\n",
       " 3.0\n",
       " 4.5"
      ]
     },
     "execution_count": 2,
     "metadata": {},
     "output_type": "execute_result"
    }
   ],
   "source": [
    "a2 = [1, 2.0, 3, 4.5]"
   ]
  },
  {
   "cell_type": "code",
   "execution_count": 3,
   "id": "03838028",
   "metadata": {},
   "outputs": [
    {
     "data": {
      "text/plain": [
       "4-element Vector{String}:\n",
       " \"My\"\n",
       " \"name\"\n",
       " \"is\"\n",
       " \"Tanzeel\""
      ]
     },
     "execution_count": 3,
     "metadata": {},
     "output_type": "execute_result"
    }
   ],
   "source": [
    "a3 = [\"My\", \"name\", \"is\", \"Tanzeel\"]"
   ]
  },
  {
   "cell_type": "code",
   "execution_count": 4,
   "id": "7bf4f45b",
   "metadata": {},
   "outputs": [
    {
     "data": {
      "text/plain": [
       "3-element Vector{Any}:\n",
       " 1\n",
       " 2.0\n",
       "  \"Tanzeel\""
      ]
     },
     "execution_count": 4,
     "metadata": {},
     "output_type": "execute_result"
    }
   ],
   "source": [
    "a4 = [1, 2.0, \"Tanzeel\"]"
   ]
  },
  {
   "cell_type": "code",
   "execution_count": 5,
   "id": "d60d0e9f",
   "metadata": {},
   "outputs": [
    {
     "data": {
      "text/plain": [
       "5-element Vector{Float64}:\n",
       " 1.0\n",
       " 2.0\n",
       " 3.0\n",
       " 4.0\n",
       " 5.0"
      ]
     },
     "execution_count": 5,
     "metadata": {},
     "output_type": "execute_result"
    }
   ],
   "source": [
    "a5 = Float64[1, 2, 3, 4, 5]"
   ]
  },
  {
   "cell_type": "code",
   "execution_count": 8,
   "id": "6206073d",
   "metadata": {},
   "outputs": [
    {
     "data": {
      "text/plain": [
       "2×4 Matrix{Int64}:\n",
       " 1  2  3  4\n",
       " 5  6  7  8"
      ]
     },
     "execution_count": 8,
     "metadata": {},
     "output_type": "execute_result"
    }
   ],
   "source": [
    "#2D array\n",
    "a6 = [1 2 3 4; 5 6 7 8]"
   ]
  },
  {
   "cell_type": "code",
   "execution_count": 9,
   "id": "3679d09a",
   "metadata": {},
   "outputs": [
    {
     "data": {
      "text/plain": [
       "2×4 Matrix{Any}:\n",
       " 1      2        3      4\n",
       "  \"My\"   \"name\"   \"is\"   \"Tanzeel\""
      ]
     },
     "execution_count": 9,
     "metadata": {},
     "output_type": "execute_result"
    }
   ],
   "source": [
    "a7 = [1 2 3 4; \"My\" \"name\" \"is\" \"Tanzeel\"]"
   ]
  },
  {
   "cell_type": "code",
   "execution_count": 10,
   "id": "b13a2c99",
   "metadata": {},
   "outputs": [
    {
     "data": {
      "text/plain": [
       "1×5 Matrix{Int64}:\n",
       " 1  2  3  4  5"
      ]
     },
     "execution_count": 10,
     "metadata": {},
     "output_type": "execute_result"
    }
   ],
   "source": [
    "a8 = [1 2 3 4 5]"
   ]
  },
  {
   "cell_type": "code",
   "execution_count": 14,
   "id": "77392e3b",
   "metadata": {},
   "outputs": [
    {
     "data": {
      "text/plain": [
       "10-element Vector{Float64}:\n",
       " 0.1743338619503999\n",
       " 0.23097835703831904\n",
       " 0.8200092676913073\n",
       " 0.24741813953756742\n",
       " 0.9192841778045565\n",
       " 0.67926557458157\n",
       " 0.6876482767968789\n",
       " 0.14575410782650333\n",
       " 0.10489696441092922\n",
       " 0.20383536949108316"
      ]
     },
     "execution_count": 14,
     "metadata": {},
     "output_type": "execute_result"
    }
   ],
   "source": [
    "a9 = rand(10) #array of 10 random values"
   ]
  },
  {
   "cell_type": "code",
   "execution_count": 15,
   "id": "c83ba37d",
   "metadata": {},
   "outputs": [
    {
     "data": {
      "text/plain": [
       "4×4 Matrix{Float64}:\n",
       " 0.463629  0.376509  0.133942   0.789944\n",
       " 0.565321  0.15694   0.0325695  0.386844\n",
       " 0.49756   0.503494  0.633327   0.647574\n",
       " 0.526994  0.938916  0.445545   0.845784"
      ]
     },
     "execution_count": 15,
     "metadata": {},
     "output_type": "execute_result"
    }
   ],
   "source": [
    "a10 = rand(4, 4)"
   ]
  }
 ],
 "metadata": {
  "kernelspec": {
   "display_name": "Julia 1.7.2",
   "language": "julia",
   "name": "julia-1.7"
  },
  "language_info": {
   "file_extension": ".jl",
   "mimetype": "application/julia",
   "name": "julia",
   "version": "1.7.2"
  }
 },
 "nbformat": 4,
 "nbformat_minor": 5
}
