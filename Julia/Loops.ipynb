{
 "cells": [
  {
   "cell_type": "code",
   "execution_count": 2,
   "id": "d5692b3c",
   "metadata": {},
   "outputs": [
    {
     "name": "stdout",
     "output_type": "stream",
     "text": [
      "Adidas Puma Nike HRX Lacoste "
     ]
    }
   ],
   "source": [
    "for i in [\"Adidas\", \"Puma\", \"Nike\", \"HRX\", \"Lacoste\"]\n",
    "    print(i, \" \")\n",
    "end"
   ]
  },
  {
   "cell_type": "code",
   "execution_count": 3,
   "id": "69eeb2e4",
   "metadata": {},
   "outputs": [
    {
     "name": "stdout",
     "output_type": "stream",
     "text": [
      "Adidas\n",
      "Puma\n",
      "Nike\n",
      "HRX\n",
      "Lacoste\n"
     ]
    }
   ],
   "source": [
    "for i in [\"Adidas\", \"Puma\", \"Nike\", \"HRX\", \"Lacoste\"]\n",
    "    println(i)\n",
    "end"
   ]
  },
  {
   "cell_type": "code",
   "execution_count": 8,
   "id": "0b7d019d",
   "metadata": {},
   "outputs": [
    {
     "name": "stdout",
     "output_type": "stream",
     "text": [
      "A\td\ti\td\ta\ts\t\n",
      "P\tu\tm\ta\t\n",
      "N\ti\tk\te\t\n",
      "H\tR\tX\t\n",
      "L\ta\tc\to\ts\tt\te\t\n"
     ]
    }
   ],
   "source": [
    "for i in [\"Adidas\", \"Puma\", \"Nike\", \"HRX\", \"Lacoste\"]\n",
    "    for j in i\n",
    "        print(j, \"\\t\")\n",
    "    end\n",
    "    print(\"\\n\")\n",
    "end"
   ]
  },
  {
   "cell_type": "code",
   "execution_count": 31,
   "id": "115865f0",
   "metadata": {},
   "outputs": [
    {
     "name": "stdout",
     "output_type": "stream",
     "text": [
      "T a n z e e l "
     ]
    }
   ],
   "source": [
    "for i in \"Tanzeel\"\n",
    "    print(i, \" \")\n",
    "end"
   ]
  },
  {
   "cell_type": "code",
   "execution_count": 10,
   "id": "ec7b53d8",
   "metadata": {},
   "outputs": [
    {
     "data": {
      "text/plain": [
       "Dict{String, Int64} with 3 entries:\n",
       "  \"Mercedes\"     => 200000\n",
       "  \"BMW\"          => 100000\n",
       "  \"Rolls Royace\" => 500000"
      ]
     },
     "execution_count": 10,
     "metadata": {},
     "output_type": "execute_result"
    }
   ],
   "source": [
    "Cars = Dict(\"BMW\" => 100000, \"Mercedes\" => 200000, \"Rolls Royace\" => 500000)"
   ]
  },
  {
   "cell_type": "code",
   "execution_count": 30,
   "id": "77fbf38e",
   "metadata": {},
   "outputs": [
    {
     "name": "stdout",
     "output_type": "stream",
     "text": [
      "\"Mercedes\" => 200000 \"BMW\" => 100000 \"Rolls Royace\" => 500000 "
     ]
    }
   ],
   "source": [
    "for d in Cars\n",
    "    print(d, \" \")\n",
    "end"
   ]
  },
  {
   "cell_type": "code",
   "execution_count": 16,
   "id": "368291ec",
   "metadata": {},
   "outputs": [
    {
     "name": "stdout",
     "output_type": "stream",
     "text": [
      "Mercedes\n",
      "BMW\n",
      "Rolls Royace\n"
     ]
    }
   ],
   "source": [
    "for d in keys(Cars)\n",
    "    print(d, \" \")\n",
    "end"
   ]
  },
  {
   "cell_type": "code",
   "execution_count": 29,
   "id": "68292bd2",
   "metadata": {},
   "outputs": [
    {
     "name": "stdout",
     "output_type": "stream",
     "text": [
      "200000 100000 500000 "
     ]
    }
   ],
   "source": [
    "for d in values(Cars)\n",
    "    print(d, \" \")\n",
    "end"
   ]
  },
  {
   "cell_type": "code",
   "execution_count": 18,
   "id": "28105b03",
   "metadata": {},
   "outputs": [
    {
     "name": "stdout",
     "output_type": "stream",
     "text": [
      "1 2 3 4 5 6 7 8 9 10 "
     ]
    }
   ],
   "source": [
    "for i in 1:10\n",
    "    print(i, \" \")\n",
    "end"
   ]
  },
  {
   "cell_type": "code",
   "execution_count": 19,
   "id": "1ac38231",
   "metadata": {},
   "outputs": [
    {
     "name": "stdout",
     "output_type": "stream",
     "text": [
      "i = 1\n",
      "i = 2\n",
      "i = 3\n",
      "i = 4\n",
      "i = 5\n"
     ]
    }
   ],
   "source": [
    "for i in 1:5\n",
    "    @show i\n",
    "end"
   ]
  },
  {
   "cell_type": "code",
   "execution_count": 28,
   "id": "448ddcb4",
   "metadata": {},
   "outputs": [
    {
     "name": "stdout",
     "output_type": "stream",
     "text": [
      "2 4 6 8 10 12 14 16 18 20 "
     ]
    }
   ],
   "source": [
    "for i in 1:20\n",
    "    if i%2 == 0\n",
    "        print(i, \" \")\n",
    "    end\n",
    "end"
   ]
  },
  {
   "cell_type": "code",
   "execution_count": 24,
   "id": "69e26aaa",
   "metadata": {},
   "outputs": [
    {
     "name": "stdout",
     "output_type": "stream",
     "text": [
      "10 x 1 = 10\n",
      "10 x 2 = 20\n",
      "10 x 3 = 30\n",
      "10 x 4 = 40\n",
      "10 x 5 = 50\n",
      "10 x 6 = 60\n",
      "10 x 7 = 70\n",
      "10 x 8 = 80\n",
      "10 x 9 = 90\n",
      "10 x 10 = 100\n"
     ]
    }
   ],
   "source": [
    "for i in 1:10\n",
    "    print(\"10 x $(i) = $(i*10)\\n\")\n",
    "end"
   ]
  },
  {
   "cell_type": "code",
   "execution_count": 27,
   "id": "c234b0f0",
   "metadata": {},
   "outputs": [
    {
     "name": "stdout",
     "output_type": "stream",
     "text": [
      "1 2 3 4 6 7 8 9 10 "
     ]
    }
   ],
   "source": [
    "for i in 1:10\n",
    "    if i == 5\n",
    "        continue\n",
    "    end\n",
    "    print(i, \" \")\n",
    "end"
   ]
  },
  {
   "cell_type": "code",
   "execution_count": 32,
   "id": "1fcbef56",
   "metadata": {},
   "outputs": [
    {
     "name": "stdout",
     "output_type": "stream",
     "text": [
      "1 2 3 4 5 6 7 8 9 "
     ]
    }
   ],
   "source": [
    "a = 1\n",
    "while a < 10\n",
    "    print(a, \" \")\n",
    "    a += 1\n",
    "end"
   ]
  },
  {
   "cell_type": "code",
   "execution_count": 39,
   "id": "739bbf4e",
   "metadata": {},
   "outputs": [
    {
     "name": "stdout",
     "output_type": "stream",
     "text": [
      "List of prime numbers from 1 to 100:\n",
      "1 2 3 5 7 11 13 17 19 23 29 31 37 41 43 47 53 59 61 67 71 73 79 83 89 97 "
     ]
    }
   ],
   "source": [
    "print(\"List of prime numbers from 1 to 100:\\n\")\n",
    "flag = 1\n",
    "for i in 1:100\n",
    "    for j in 2:i/2\n",
    "        if i%j == 0\n",
    "            flag = 0\n",
    "        end\n",
    "    end\n",
    "    if flag == 1\n",
    "        print(i, \" \")\n",
    "    end\n",
    "    flag = 1\n",
    "end"
   ]
  },
  {
   "cell_type": "code",
   "execution_count": null,
   "id": "c1091bcf",
   "metadata": {},
   "outputs": [],
   "source": []
  }
 ],
 "metadata": {
  "kernelspec": {
   "display_name": "Julia 1.7.2",
   "language": "julia",
   "name": "julia-1.7"
  },
  "language_info": {
   "file_extension": ".jl",
   "mimetype": "application/julia",
   "name": "julia",
   "version": "1.7.2"
  }
 },
 "nbformat": 4,
 "nbformat_minor": 5
}
