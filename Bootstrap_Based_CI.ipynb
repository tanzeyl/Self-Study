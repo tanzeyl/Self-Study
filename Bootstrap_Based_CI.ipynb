{
  "nbformat": 4,
  "nbformat_minor": 0,
  "metadata": {
    "colab": {
      "name": "Bootstrap Based CI.ipynb",
      "provenance": [],
      "authorship_tag": "ABX9TyOQjkW0vdnmdTCsLeA/uxPR",
      "include_colab_link": true
    },
    "kernelspec": {
      "name": "python3",
      "display_name": "Python 3"
    },
    "language_info": {
      "name": "python"
    }
  },
  "cells": [
    {
      "cell_type": "markdown",
      "metadata": {
        "id": "view-in-github",
        "colab_type": "text"
      },
      "source": [
        "<a href=\"https://colab.research.google.com/github/tanzeyl/Self-Study/blob/main/Bootstrap_Based_CI.ipynb\" target=\"_parent\"><img src=\"https://colab.research.google.com/assets/colab-badge.svg\" alt=\"Open In Colab\"/></a>"
      ]
    },
    {
      "cell_type": "code",
      "metadata": {
        "id": "LwZ9tI4UiJ-0"
      },
      "source": [
        "import numpy as np\n",
        "import pandas as pd\n",
        "from sklearn.utils import resample\n",
        "from sklearn.metrics import accuracy_score\n",
        "from matplotlib import pyplot"
      ],
      "execution_count": 1,
      "outputs": []
    },
    {
      "cell_type": "code",
      "metadata": {
        "id": "Dh9GemgTikhR"
      },
      "source": [
        "x = np.array([180, 162, 158, 172, 168, 150, 171, 183, 165, 176])\n",
        "n_iterations = 1000\n",
        "n_size = int(len(x))\n",
        "medians = []\n",
        "for i in range(n_iterations):\n",
        "  s = resample(x, n_samples = n_size)\n",
        "  m = np.median(s)\n",
        "  medians.append(m)"
      ],
      "execution_count": 3,
      "outputs": []
    },
    {
      "cell_type": "code",
      "metadata": {
        "colab": {
          "base_uri": "https://localhost:8080/",
          "height": 282
        },
        "id": "qbYrsTLWj7GQ",
        "outputId": "ede57171-b213-4183-9a09-a40b83748813"
      },
      "source": [
        "pyplot.hist(medians)\n",
        "\n",
        "alpha = 0.95\n",
        "p = ((1.0-alpha)/2.0)*100\n",
        "lower = np.percentile(medians, p)\n",
        "p = (alpha + ((1.0-alpha)/2.0))*100\n",
        "upper = np.percentile(medians, p)\n",
        "print(\"{} has CI between {} and {}\".format(alpha*100, lower,upper))"
      ],
      "execution_count": 6,
      "outputs": [
        {
          "output_type": "stream",
          "text": [
            "95.0 has CI between 161.5 and 176.0\n"
          ],
          "name": "stdout"
        },
        {
          "output_type": "display_data",
          "data": {
            "image/png": "[encoded data removed]",
            "text/plain": [
              "<Figure size 432x288 with 1 Axes>"
            ]
          },
          "metadata": {
            "tags": [],
            "needs_background": "light"
          }
        }
      ]
    }
  ]
}