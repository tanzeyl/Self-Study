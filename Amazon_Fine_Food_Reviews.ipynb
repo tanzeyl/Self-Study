{
  "nbformat": 4,
  "nbformat_minor": 0,
  "metadata": {
    "colab": {
      "name": "Amazon Fine Food Reviews.ipynb",
      "provenance": [],
      "mount_file_id": "1JbQjKCPU07MgvL5vVMCIn-HVUTWBGJPz",
      "authorship_tag": "ABX9TyMK6x7KsQkAWyZEvacmugbw",
      "include_colab_link": true
    },
    "kernelspec": {
      "name": "python3",
      "display_name": "Python 3"
    },
    "language_info": {
      "name": "python"
    }
  },
  "cells": [
    {
      "cell_type": "markdown",
      "metadata": {
        "id": "view-in-github",
        "colab_type": "text"
      },
      "source": [
        "<a href=\"https://colab.research.google.com/github/tanzeyl/Self-Study/blob/main/Amazon_Fine_Food_Reviews.ipynb\" target=\"_parent\"><img src=\"https://colab.research.google.com/assets/colab-badge.svg\" alt=\"Open In Colab\"/></a>"
      ]
    },
    {
      "cell_type": "code",
      "metadata": {
        "id": "7_COV1Tu3Flt"
      },
      "source": [
        "import matplotlib.pyplot as plt\n",
        "import sqlite3\n",
        "import pandas as pd\n",
        "import numpy as np\n",
        "import nltk\n",
        "import string\n",
        "import seaborn as sns\n",
        "from sklearn.feature_extraction.text import TfidfTransformer\n",
        "from sklearn.feature_extraction.text import TfidfVectorizer\n",
        "from sklearn.feature_extraction.text import CountVectorizer\n",
        "from sklearn.metrics import confusion_matrix\n",
        "from sklearn import metrics\n",
        "from sklearn.metrics import roc_curve, auc\n",
        "from nltk.stem.porter import PorterStemmer"
      ],
      "execution_count": 1,
      "outputs": []
    },
    {
      "cell_type": "code",
      "metadata": {
        "id": "iUjhT5mE48TN"
      },
      "source": [
        "#Connecting and reading the SQLite Database\n",
        "con = sqlite3.connect(\"/content/drive/MyDrive/Colab Notebooks/database.sqlite\")\n",
        "filtered_data = pd.read_sql_query(\"SELECT * from Reviews WHERE Score != 3\", con)"
      ],
      "execution_count": 2,
      "outputs": []
    },
    {
      "cell_type": "code",
      "metadata": {
        "id": "ZcOdkoVy5cKe"
      },
      "source": [
        "def partition(x):\n",
        "  if x > 3:\n",
        "    return \"Negative\"\n",
        "  return \"Positive\""
      ],
      "execution_count": 3,
      "outputs": []
    },
    {
      "cell_type": "code",
      "metadata": {
        "id": "a_m7xrH46Nsb"
      },
      "source": [
        "actualScore = filtered_data[\"Score\"]\n",
        "pos_neg = actualScore.map(partition)\n",
        "filtered_data[\"Score\"] = pos_neg"
      ],
      "execution_count": 4,
      "outputs": []
    },
    {
      "cell_type": "code",
      "metadata": {
        "colab": {
          "base_uri": "https://localhost:8080/",
          "height": 289
        },
        "id": "_yWvdGTf6pGi",
        "outputId": "89de0775-d2c5-4f0d-fe5d-88a418786abc"
      },
      "source": [
        "filtered_data.head()"
      ],
      "execution_count": 5,
      "outputs": [
        {
          "output_type": "execute_result",
          "data": {
            "text/html": [
              "<div>\n",
              "<style scoped>\n",
              "    .dataframe tbody tr th:only-of-type {\n",
              "        vertical-align: middle;\n",
              "    }\n",
              "\n",
              "    .dataframe tbody tr th {\n",
              "        vertical-align: top;\n",
              "    }\n",
              "\n",
              "    .dataframe thead th {\n",
              "        text-align: right;\n",
              "    }\n",
              "</style>\n",
              "<table border=\"1\" class=\"dataframe\">\n",
              "  <thead>\n",
              "    <tr style=\"text-align: right;\">\n",
              "      <th></th>\n",
              "      <th>Id</th>\n",
              "      <th>ProductId</th>\n",
              "      <th>UserId</th>\n",
              "      <th>ProfileName</th>\n",
              "      <th>HelpfulnessNumerator</th>\n",
              "      <th>HelpfulnessDenominator</th>\n",
              "      <th>Score</th>\n",
              "      <th>Time</th>\n",
              "      <th>Summary</th>\n",
              "      <th>Text</th>\n",
              "    </tr>\n",
              "  </thead>\n",
              "  <tbody>\n",
              "    <tr>\n",
              "      <th>0</th>\n",
              "      <td>1</td>\n",
              "      <td>B001E4KFG0</td>\n",
              "      <td>A3SGXH7AUHU8GW</td>\n",
              "      <td>delmartian</td>\n",
              "      <td>1</td>\n",
              "      <td>1</td>\n",
              "      <td>Negative</td>\n",
              "      <td>1303862400</td>\n",
              "      <td>Good Quality Dog Food</td>\n",
              "      <td>I have bought several of the Vitality canned d...</td>\n",
              "    </tr>\n",
              "    <tr>\n",
              "      <th>1</th>\n",
              "      <td>2</td>\n",
              "      <td>B00813GRG4</td>\n",
              "      <td>A1D87F6ZCVE5NK</td>\n",
              "      <td>dll pa</td>\n",
              "      <td>0</td>\n",
              "      <td>0</td>\n",
              "      <td>Positive</td>\n",
              "      <td>1346976000</td>\n",
              "      <td>Not as Advertised</td>\n",
              "      <td>Product arrived labeled as Jumbo Salted Peanut...</td>\n",
              "    </tr>\n",
              "    <tr>\n",
              "      <th>2</th>\n",
              "      <td>3</td>\n",
              "      <td>B000LQOCH0</td>\n",
              "      <td>ABXLMWJIXXAIN</td>\n",
              "      <td>Natalia Corres \"Natalia Corres\"</td>\n",
              "      <td>1</td>\n",
              "      <td>1</td>\n",
              "      <td>Negative</td>\n",
              "      <td>1219017600</td>\n",
              "      <td>\"Delight\" says it all</td>\n",
              "      <td>This is a confection that has been around a fe...</td>\n",
              "    </tr>\n",
              "    <tr>\n",
              "      <th>3</th>\n",
              "      <td>4</td>\n",
              "      <td>B000UA0QIQ</td>\n",
              "      <td>A395BORC6FGVXV</td>\n",
              "      <td>Karl</td>\n",
              "      <td>3</td>\n",
              "      <td>3</td>\n",
              "      <td>Positive</td>\n",
              "      <td>1307923200</td>\n",
              "      <td>Cough Medicine</td>\n",
              "      <td>If you are looking for the secret ingredient i...</td>\n",
              "    </tr>\n",
              "    <tr>\n",
              "      <th>4</th>\n",
              "      <td>5</td>\n",
              "      <td>B006K2ZZ7K</td>\n",
              "      <td>A1UQRSCLF8GW1T</td>\n",
              "      <td>Michael D. Bigham \"M. Wassir\"</td>\n",
              "      <td>0</td>\n",
              "      <td>0</td>\n",
              "      <td>Negative</td>\n",
              "      <td>1350777600</td>\n",
              "      <td>Great taffy</td>\n",
              "      <td>Great taffy at a great price.  There was a wid...</td>\n",
              "    </tr>\n",
              "  </tbody>\n",
              "</table>\n",
              "</div>"
            ],
            "text/plain": [
              "   Id  ...                                               Text\n",
              "0   1  ...  I have bought several of the Vitality canned d...\n",
              "1   2  ...  Product arrived labeled as Jumbo Salted Peanut...\n",
              "2   3  ...  This is a confection that has been around a fe...\n",
              "3   4  ...  If you are looking for the secret ingredient i...\n",
              "4   5  ...  Great taffy at a great price.  There was a wid...\n",
              "\n",
              "[5 rows x 10 columns]"
            ]
          },
          "metadata": {
            "tags": []
          },
          "execution_count": 5
        }
      ]
    },
    {
      "cell_type": "code",
      "metadata": {
        "colab": {
          "base_uri": "https://localhost:8080/"
        },
        "id": "7Ga9IlB-6rHn",
        "outputId": "87eda8ca-e41c-4b15-d4f8-00ca7cd3644b"
      },
      "source": [
        "filtered_data.shape"
      ],
      "execution_count": 6,
      "outputs": [
        {
          "output_type": "execute_result",
          "data": {
            "text/plain": [
              "(525814, 10)"
            ]
          },
          "metadata": {
            "tags": []
          },
          "execution_count": 6
        }
      ]
    },
    {
      "cell_type": "code",
      "metadata": {
        "id": "uw6PYfWl7Dwf"
      },
      "source": [
        "#Removing duplicates\n",
        "final = filtered_data.drop_duplicates(subset = {\"UserId\", \"ProfileName\", \"Time\", \"Text\"}, keep=\"first\", inplace = False)"
      ],
      "execution_count": 7,
      "outputs": []
    },
    {
      "cell_type": "code",
      "metadata": {
        "colab": {
          "base_uri": "https://localhost:8080/"
        },
        "id": "2wnOU8G_9ECz",
        "outputId": "618599b6-e0fc-467a-dafe-c096b6574bd2"
      },
      "source": [
        "final.shape"
      ],
      "execution_count": 8,
      "outputs": [
        {
          "output_type": "execute_result",
          "data": {
            "text/plain": [
              "(364173, 10)"
            ]
          },
          "metadata": {
            "tags": []
          },
          "execution_count": 8
        }
      ]
    },
    {
      "cell_type": "code",
      "metadata": {
        "id": "-dN62dUm9l5s"
      },
      "source": [
        "final = final[final.HelpfulnessNumerator <= final.HelpfulnessDenominator]"
      ],
      "execution_count": 9,
      "outputs": []
    },
    {
      "cell_type": "code",
      "metadata": {
        "colab": {
          "base_uri": "https://localhost:8080/"
        },
        "id": "NztF9u6xJ6x3",
        "outputId": "27091446-a3a1-4d4f-a7ba-489245a51eba"
      },
      "source": [
        "final.shape"
      ],
      "execution_count": 10,
      "outputs": [
        {
          "output_type": "execute_result",
          "data": {
            "text/plain": [
              "(364171, 10)"
            ]
          },
          "metadata": {
            "tags": []
          },
          "execution_count": 10
        }
      ]
    },
    {
      "cell_type": "markdown",
      "metadata": {
        "id": "qd_gWcwcQpr_"
      },
      "source": [
        "# Bag Of Words"
      ]
    },
    {
      "cell_type": "code",
      "metadata": {
        "id": "yzoHZZtaJ7z7"
      },
      "source": [
        "count_vect = CountVectorizer()\n",
        "final_counts = count_vect.fit_transform(final[\"Text\"].values)"
      ],
      "execution_count": 11,
      "outputs": []
    },
    {
      "cell_type": "code",
      "metadata": {
        "colab": {
          "base_uri": "https://localhost:8080/"
        },
        "id": "xd23l1IGQ44u",
        "outputId": "2ba5ac92-67a7-437d-e37f-21480d5774c4"
      },
      "source": [
        "type(final_counts)"
      ],
      "execution_count": 12,
      "outputs": [
        {
          "output_type": "execute_result",
          "data": {
            "text/plain": [
              "scipy.sparse.csr.csr_matrix"
            ]
          },
          "metadata": {
            "tags": []
          },
          "execution_count": 12
        }
      ]
    },
    {
      "cell_type": "code",
      "metadata": {
        "colab": {
          "base_uri": "https://localhost:8080/"
        },
        "id": "ni7mAb17RCYj",
        "outputId": "5f20f7ea-c636-4d7c-aa6c-b284cf372368"
      },
      "source": [
        "final_counts.get_shape()"
      ],
      "execution_count": 13,
      "outputs": [
        {
          "output_type": "execute_result",
          "data": {
            "text/plain": [
              "(364171, 115281)"
            ]
          },
          "metadata": {
            "tags": []
          },
          "execution_count": 13
        }
      ]
    },
    {
      "cell_type": "markdown",
      "metadata": {
        "id": "ezGUaYubiC2w"
      },
      "source": [
        "# Text Pre-Processing"
      ]
    },
    {
      "cell_type": "code",
      "metadata": {
        "colab": {
          "base_uri": "https://localhost:8080/"
        },
        "id": "9HS5WqeRRG84",
        "outputId": "13bf1adf-8fe5-4099-ad1c-9489e87fba0b"
      },
      "source": [
        "#Find sentences containing HTML tags\n",
        "import re\n",
        "i = 0\n",
        "for sent in final[\"Text\"].values:\n",
        "  if(len(re.findall(\"<.*?>\", sent ))):\n",
        "    print(i)\n",
        "    print(sent)\n",
        "    break\n",
        "  i += 1"
      ],
      "execution_count": 14,
      "outputs": [
        {
          "output_type": "stream",
          "text": [
            "10\n",
            "I don't know if it's the cactus or the tequila or just the unique combination of ingredients, but the flavour of this hot sauce makes it one of a kind!  We picked up a bottle once on a trip we were on and brought it back home with us and were totally blown away!  When we realized that we simply couldn't find it anywhere in our city we were bummed.<br /><br />Now, because of the magic of the internet, we have a case of the sauce and are ecstatic because of it.<br /><br />If you love hot sauce..I mean really love hot sauce, but don't want a sauce that tastelessly burns your throat, grab a bottle of Tequila Picante Gourmet de Inclan.  Just realize that once you taste it, you will never want to use any other sauce.<br /><br />Thank you for the personal, incredible service!\n"
          ],
          "name": "stdout"
        }
      ]
    },
    {
      "cell_type": "code",
      "metadata": {
        "colab": {
          "base_uri": "https://localhost:8080/"
        },
        "id": "Q-141ghClwUs",
        "outputId": "c9e09887-6206-44fe-9246-c7ff54de51a0"
      },
      "source": [
        "import re\n",
        "import string\n",
        "from nltk.corpus import stopwords\n",
        "nltk.download('stopwords')\n",
        "from nltk.stem import PorterStemmer\n",
        "from nltk.stem.wordnet import WordNetLemmatizer\n",
        "\n",
        "stop = set(stopwords.words('english'))\n",
        "sno = nltk.stem.SnowballStemmer(\"english\")\n",
        "\n",
        "def cleanhtml(sentence):\n",
        "  cleanr = re.compile(\"<.*?>\")\n",
        "  cleantext = re.sub(cleanr, \" \", sentence)\n",
        "  return cleantext\n",
        "\n",
        "def cleanpunc(sentence):\n",
        "  cleaned = re.sub(r'[? | ! | \\' |  \" | #]', r' ', sentence)\n",
        "  cleaned = re.sub(r'[. | , | ) | ( | \\ | / ]', r' ', cleaned)\n",
        "  return cleaned\n",
        "\n",
        "print(stop)\n",
        "print(\"******************************\")\n",
        "print(sno.stem(\"tasty\"))"
      ],
      "execution_count": 20,
      "outputs": [
        {
          "output_type": "stream",
          "text": [
            "[nltk_data] Downloading package stopwords to /root/nltk_data...\n",
            "[nltk_data]   Package stopwords is already up-to-date!\n",
            "{'while', 'how', \"it's\", 'shan', 'between', 'which', 'at', 'him', 'shouldn', \"wasn't\", 'or', 'theirs', 'doing', 'itself', 'to', 'such', 'm', 'where', 'only', 'the', 'when', \"that'll\", \"isn't\", 'here', \"don't\", 'who', 'over', 'after', 'above', 'doesn', 'has', 'does', 'couldn', 'before', 're', 'am', 'haven', 'having', 'can', 'didn', 'your', 'mustn', 'hers', 'hadn', 'i', 'was', 'our', \"couldn't\", 'that', \"you'll\", 'ain', \"hadn't\", 'wasn', 'been', 'its', 'because', 'it', \"mightn't\", 'this', 'for', 'his', 'she', 'of', 'some', 'own', 'and', 'you', 'against', 'each', \"didn't\", 'wouldn', 'just', 'my', 'we', \"mustn't\", \"shan't\", 'needn', 'did', 'hasn', 'all', 'off', 'during', 'ma', 'more', 'until', 'd', 'had', \"hasn't\", 'from', 'both', 'too', 'through', 'ours', 'be', 'y', 'with', 'should', 'so', 'don', 'them', 'myself', 'very', 'isn', 'll', 'yours', \"wouldn't\", 'than', 'these', 'they', 'herself', 'on', 've', 'any', 'he', 'is', 'once', 'those', 'now', 'won', \"should've\", \"you'd\", 'under', 'same', 'further', 'yourselves', 'below', 'no', 's', 'a', 'most', 'mightn', 'will', 'her', \"doesn't\", 'ourselves', 'have', 'by', 'then', 'me', 'but', \"you're\", 'about', 'yourself', 'into', \"she's\", 'as', 'why', 'if', 'nor', \"you've\", 'were', 'being', 'up', \"shouldn't\", 'whom', 'few', 'aren', \"weren't\", \"won't\", \"needn't\", \"haven't\", 'do', 'again', 'are', 'their', 'themselves', \"aren't\", 'down', 'an', 'weren', 'out', 't', 'in', 'what', 'himself', 'not', 'other', 'there', 'o'}\n",
            "******************************\n",
            "tasti\n"
          ],
          "name": "stdout"
        }
      ]
    },
    {
      "cell_type": "code",
      "metadata": {
        "id": "sUt7_k8NmwaN"
      },
      "source": [
        "i = 0\n",
        "str1 = \" \"\n",
        "final_string = []\n",
        "all_positive_words = []\n",
        "all_negative_words = []\n",
        "s = \" \"\n",
        "for sent in final[\"Text\"].values:\n",
        "  filtered_sentence = []\n",
        "  sent = cleanhtml(sent)\n",
        "  for w in sent.split():\n",
        "    for cleaned_words in cleanpunc(w).split():\n",
        "      if ((cleaned_words.isalpha())  & (len(cleaned_words) > 2)):\n",
        "        if (cleaned_words.lower() not in stop):\n",
        "          s = (sno.stem(cleaned_words.lower())).encode(\"utf8\")\n",
        "          filtered_sentence.append(s)\n",
        "          if (final[\"Score\"].values)[i] == \"Positive\":\n",
        "            all_positive_words.append(s)\n",
        "          if (final[\"Score\"].values)[i] == \"Negative\":\n",
        "            all_negative_words.append(s)\n",
        "        else:\n",
        "          continue\n",
        "      else:\n",
        "        continue\n",
        "  str1 = b\" \".join(filtered_sentence)\n",
        "  final_string.append(str1)\n",
        "  i += 1"
      ],
      "execution_count": 35,
      "outputs": []
    },
    {
      "cell_type": "code",
      "metadata": {
        "id": "GJQ4t7ilp7CM"
      },
      "source": [
        "final[\"CleanedText\"] = final_string\n",
        "#Store final table in SQLite for future references\n",
        "conn = sqlite3.connect(\"final.sqlite\")\n",
        "c = conn.cursor()\n",
        "conn.text_factory = str\n",
        "final.to_sql(\"Reviews\", conn, schema = None, if_exists = \"replace\")"
      ],
      "execution_count": 36,
      "outputs": []
    },
    {
      "cell_type": "code",
      "metadata": {
        "colab": {
          "base_uri": "https://localhost:8080/",
          "height": 374
        },
        "id": "ImZahbUTr1j6",
        "outputId": "ba7bb025-e541-4c91-f58f-4adad87c043b"
      },
      "source": [
        "final.head()"
      ],
      "execution_count": 37,
      "outputs": [
        {
          "output_type": "execute_result",
          "data": {
            "text/html": [
              "<div>\n",
              "<style scoped>\n",
              "    .dataframe tbody tr th:only-of-type {\n",
              "        vertical-align: middle;\n",
              "    }\n",
              "\n",
              "    .dataframe tbody tr th {\n",
              "        vertical-align: top;\n",
              "    }\n",
              "\n",
              "    .dataframe thead th {\n",
              "        text-align: right;\n",
              "    }\n",
              "</style>\n",
              "<table border=\"1\" class=\"dataframe\">\n",
              "  <thead>\n",
              "    <tr style=\"text-align: right;\">\n",
              "      <th></th>\n",
              "      <th>Id</th>\n",
              "      <th>ProductId</th>\n",
              "      <th>UserId</th>\n",
              "      <th>ProfileName</th>\n",
              "      <th>HelpfulnessNumerator</th>\n",
              "      <th>HelpfulnessDenominator</th>\n",
              "      <th>Score</th>\n",
              "      <th>Time</th>\n",
              "      <th>Summary</th>\n",
              "      <th>Text</th>\n",
              "      <th>CleanedText</th>\n",
              "    </tr>\n",
              "  </thead>\n",
              "  <tbody>\n",
              "    <tr>\n",
              "      <th>0</th>\n",
              "      <td>1</td>\n",
              "      <td>B001E4KFG0</td>\n",
              "      <td>A3SGXH7AUHU8GW</td>\n",
              "      <td>delmartian</td>\n",
              "      <td>1</td>\n",
              "      <td>1</td>\n",
              "      <td>Negative</td>\n",
              "      <td>1303862400</td>\n",
              "      <td>Good Quality Dog Food</td>\n",
              "      <td>I have bought several of the Vitality canned d...</td>\n",
              "      <td>b'bought sever vital can dog food product foun...</td>\n",
              "    </tr>\n",
              "    <tr>\n",
              "      <th>1</th>\n",
              "      <td>2</td>\n",
              "      <td>B00813GRG4</td>\n",
              "      <td>A1D87F6ZCVE5NK</td>\n",
              "      <td>dll pa</td>\n",
              "      <td>0</td>\n",
              "      <td>0</td>\n",
              "      <td>Positive</td>\n",
              "      <td>1346976000</td>\n",
              "      <td>Not as Advertised</td>\n",
              "      <td>Product arrived labeled as Jumbo Salted Peanut...</td>\n",
              "      <td>b'product arriv label jumbo salt peanut peanut...</td>\n",
              "    </tr>\n",
              "    <tr>\n",
              "      <th>2</th>\n",
              "      <td>3</td>\n",
              "      <td>B000LQOCH0</td>\n",
              "      <td>ABXLMWJIXXAIN</td>\n",
              "      <td>Natalia Corres \"Natalia Corres\"</td>\n",
              "      <td>1</td>\n",
              "      <td>1</td>\n",
              "      <td>Negative</td>\n",
              "      <td>1219017600</td>\n",
              "      <td>\"Delight\" says it all</td>\n",
              "      <td>This is a confection that has been around a fe...</td>\n",
              "      <td>b'confect around centuri light pillowi citrus ...</td>\n",
              "    </tr>\n",
              "    <tr>\n",
              "      <th>3</th>\n",
              "      <td>4</td>\n",
              "      <td>B000UA0QIQ</td>\n",
              "      <td>A395BORC6FGVXV</td>\n",
              "      <td>Karl</td>\n",
              "      <td>3</td>\n",
              "      <td>3</td>\n",
              "      <td>Positive</td>\n",
              "      <td>1307923200</td>\n",
              "      <td>Cough Medicine</td>\n",
              "      <td>If you are looking for the secret ingredient i...</td>\n",
              "      <td>b'look secret ingredi robitussin believ found ...</td>\n",
              "    </tr>\n",
              "    <tr>\n",
              "      <th>4</th>\n",
              "      <td>5</td>\n",
              "      <td>B006K2ZZ7K</td>\n",
              "      <td>A1UQRSCLF8GW1T</td>\n",
              "      <td>Michael D. Bigham \"M. Wassir\"</td>\n",
              "      <td>0</td>\n",
              "      <td>0</td>\n",
              "      <td>Negative</td>\n",
              "      <td>1350777600</td>\n",
              "      <td>Great taffy</td>\n",
              "      <td>Great taffy at a great price.  There was a wid...</td>\n",
              "      <td>b'great taffi great price wide assort yummi ta...</td>\n",
              "    </tr>\n",
              "  </tbody>\n",
              "</table>\n",
              "</div>"
            ],
            "text/plain": [
              "   Id  ...                                        CleanedText\n",
              "0   1  ...  b'bought sever vital can dog food product foun...\n",
              "1   2  ...  b'product arriv label jumbo salt peanut peanut...\n",
              "2   3  ...  b'confect around centuri light pillowi citrus ...\n",
              "3   4  ...  b'look secret ingredi robitussin believ found ...\n",
              "4   5  ...  b'great taffi great price wide assort yummi ta...\n",
              "\n",
              "[5 rows x 11 columns]"
            ]
          },
          "metadata": {
            "tags": []
          },
          "execution_count": 37
        }
      ]
    },
    {
      "cell_type": "code",
      "metadata": {
        "id": "DpSfzhtrsF2X"
      },
      "source": [
        ""
      ],
      "execution_count": null,
      "outputs": []
    }
  ]
}